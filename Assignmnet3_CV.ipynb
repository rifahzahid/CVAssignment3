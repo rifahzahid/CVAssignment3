{
  "cells": [
    {
      "cell_type": "markdown",
      "id": "a0fd9a97",
      "metadata": {
        "id": "a0fd9a97"
      },
      "source": [
        "### Semantic Segmentation using U-Net architecture using (1) VGG and (2) ResNet as the backbone"
      ]
    },
    {
      "cell_type": "markdown",
      "id": "d26cc04e",
      "metadata": {
        "id": "d26cc04e"
      },
      "source": [
        "Task description\n",
        "1. The first Architecture is U-NET with VGG Net as backbone.\n",
        "2. The 2nd Architecture is U-NET with ResNeT as the backbone."
      ]
    },
    {
      "cell_type": "markdown",
      "source": [
        "**Install necessary libraries**"
      ],
      "metadata": {
        "id": "3RCrbrjtGUur"
      },
      "id": "3RCrbrjtGUur"
    },
    {
      "cell_type": "code",
      "source": [
        "!pip3 install tensorflow==2.2\n",
        "!pip3 install keras==2.3.1\n",
        "!pip3 install -U segmentation-models\n",
        "\n",
        "\n",
        "import tensorflow as tf\n",
        "import tensorflow.keras as keras\n",
        "import segmentation_models as sm"
      ],
      "metadata": {
        "colab": {
          "base_uri": "https://localhost:8080/"
        },
        "id": "8fKen3MUuvAB",
        "outputId": "f58b9e06-7e38-432f-e7a2-9e66f056dbde"
      },
      "id": "8fKen3MUuvAB",
      "execution_count": null,
      "outputs": [
        {
          "output_type": "stream",
          "name": "stdout",
          "text": [
            "Collecting tensorflow==2.2\n",
            "  Downloading tensorflow-2.2.0-cp37-cp37m-manylinux2010_x86_64.whl (516.2 MB)\n",
            "\u001b[K     |████████████████████████████████| 516.2 MB 4.1 kB/s \n",
            "\u001b[?25hRequirement already satisfied: absl-py>=0.7.0 in /usr/local/lib/python3.7/dist-packages (from tensorflow==2.2) (1.0.0)\n",
            "Requirement already satisfied: numpy<2.0,>=1.16.0 in /usr/local/lib/python3.7/dist-packages (from tensorflow==2.2) (1.21.6)\n",
            "Collecting tensorboard<2.3.0,>=2.2.0\n",
            "  Downloading tensorboard-2.2.2-py3-none-any.whl (3.0 MB)\n",
            "\u001b[K     |████████████████████████████████| 3.0 MB 46.8 MB/s \n",
            "\u001b[?25hRequirement already satisfied: opt-einsum>=2.3.2 in /usr/local/lib/python3.7/dist-packages (from tensorflow==2.2) (3.3.0)\n",
            "Requirement already satisfied: wrapt>=1.11.1 in /usr/local/lib/python3.7/dist-packages (from tensorflow==2.2) (1.14.1)\n",
            "Collecting tensorflow-estimator<2.3.0,>=2.2.0\n",
            "  Downloading tensorflow_estimator-2.2.0-py2.py3-none-any.whl (454 kB)\n",
            "\u001b[K     |████████████████████████████████| 454 kB 68.5 MB/s \n",
            "\u001b[?25hRequirement already satisfied: keras-preprocessing>=1.1.0 in /usr/local/lib/python3.7/dist-packages (from tensorflow==2.2) (1.1.2)\n",
            "Requirement already satisfied: termcolor>=1.1.0 in /usr/local/lib/python3.7/dist-packages (from tensorflow==2.2) (1.1.0)\n",
            "Collecting gast==0.3.3\n",
            "  Downloading gast-0.3.3-py2.py3-none-any.whl (9.7 kB)\n",
            "Requirement already satisfied: grpcio>=1.8.6 in /usr/local/lib/python3.7/dist-packages (from tensorflow==2.2) (1.46.1)\n",
            "Requirement already satisfied: six>=1.12.0 in /usr/local/lib/python3.7/dist-packages (from tensorflow==2.2) (1.15.0)\n",
            "Requirement already satisfied: wheel>=0.26 in /usr/local/lib/python3.7/dist-packages (from tensorflow==2.2) (0.37.1)\n",
            "Requirement already satisfied: protobuf>=3.8.0 in /usr/local/lib/python3.7/dist-packages (from tensorflow==2.2) (3.17.3)\n",
            "Requirement already satisfied: scipy==1.4.1 in /usr/local/lib/python3.7/dist-packages (from tensorflow==2.2) (1.4.1)\n",
            "Collecting h5py<2.11.0,>=2.10.0\n",
            "  Downloading h5py-2.10.0-cp37-cp37m-manylinux1_x86_64.whl (2.9 MB)\n",
            "\u001b[K     |████████████████████████████████| 2.9 MB 45.7 MB/s \n",
            "\u001b[?25hRequirement already satisfied: google-pasta>=0.1.8 in /usr/local/lib/python3.7/dist-packages (from tensorflow==2.2) (0.2.0)\n",
            "Requirement already satisfied: astunparse==1.6.3 in /usr/local/lib/python3.7/dist-packages (from tensorflow==2.2) (1.6.3)\n",
            "Requirement already satisfied: markdown>=2.6.8 in /usr/local/lib/python3.7/dist-packages (from tensorboard<2.3.0,>=2.2.0->tensorflow==2.2) (3.3.7)\n",
            "Requirement already satisfied: google-auth-oauthlib<0.5,>=0.4.1 in /usr/local/lib/python3.7/dist-packages (from tensorboard<2.3.0,>=2.2.0->tensorflow==2.2) (0.4.6)\n",
            "Requirement already satisfied: google-auth<2,>=1.6.3 in /usr/local/lib/python3.7/dist-packages (from tensorboard<2.3.0,>=2.2.0->tensorflow==2.2) (1.35.0)\n",
            "Requirement already satisfied: requests<3,>=2.21.0 in /usr/local/lib/python3.7/dist-packages (from tensorboard<2.3.0,>=2.2.0->tensorflow==2.2) (2.23.0)\n",
            "Requirement already satisfied: setuptools>=41.0.0 in /usr/local/lib/python3.7/dist-packages (from tensorboard<2.3.0,>=2.2.0->tensorflow==2.2) (57.4.0)\n",
            "Requirement already satisfied: werkzeug>=0.11.15 in /usr/local/lib/python3.7/dist-packages (from tensorboard<2.3.0,>=2.2.0->tensorflow==2.2) (1.0.1)\n",
            "Requirement already satisfied: tensorboard-plugin-wit>=1.6.0 in /usr/local/lib/python3.7/dist-packages (from tensorboard<2.3.0,>=2.2.0->tensorflow==2.2) (1.8.1)\n",
            "Requirement already satisfied: rsa<5,>=3.1.4 in /usr/local/lib/python3.7/dist-packages (from google-auth<2,>=1.6.3->tensorboard<2.3.0,>=2.2.0->tensorflow==2.2) (4.8)\n",
            "Requirement already satisfied: cachetools<5.0,>=2.0.0 in /usr/local/lib/python3.7/dist-packages (from google-auth<2,>=1.6.3->tensorboard<2.3.0,>=2.2.0->tensorflow==2.2) (4.2.4)\n",
            "Requirement already satisfied: pyasn1-modules>=0.2.1 in /usr/local/lib/python3.7/dist-packages (from google-auth<2,>=1.6.3->tensorboard<2.3.0,>=2.2.0->tensorflow==2.2) (0.2.8)\n",
            "Requirement already satisfied: requests-oauthlib>=0.7.0 in /usr/local/lib/python3.7/dist-packages (from google-auth-oauthlib<0.5,>=0.4.1->tensorboard<2.3.0,>=2.2.0->tensorflow==2.2) (1.3.1)\n",
            "Requirement already satisfied: importlib-metadata>=4.4 in /usr/local/lib/python3.7/dist-packages (from markdown>=2.6.8->tensorboard<2.3.0,>=2.2.0->tensorflow==2.2) (4.11.3)\n",
            "Requirement already satisfied: zipp>=0.5 in /usr/local/lib/python3.7/dist-packages (from importlib-metadata>=4.4->markdown>=2.6.8->tensorboard<2.3.0,>=2.2.0->tensorflow==2.2) (3.8.0)\n",
            "Requirement already satisfied: typing-extensions>=3.6.4 in /usr/local/lib/python3.7/dist-packages (from importlib-metadata>=4.4->markdown>=2.6.8->tensorboard<2.3.0,>=2.2.0->tensorflow==2.2) (4.2.0)\n",
            "Requirement already satisfied: pyasn1<0.5.0,>=0.4.6 in /usr/local/lib/python3.7/dist-packages (from pyasn1-modules>=0.2.1->google-auth<2,>=1.6.3->tensorboard<2.3.0,>=2.2.0->tensorflow==2.2) (0.4.8)\n",
            "Requirement already satisfied: certifi>=2017.4.17 in /usr/local/lib/python3.7/dist-packages (from requests<3,>=2.21.0->tensorboard<2.3.0,>=2.2.0->tensorflow==2.2) (2021.10.8)\n",
            "Requirement already satisfied: chardet<4,>=3.0.2 in /usr/local/lib/python3.7/dist-packages (from requests<3,>=2.21.0->tensorboard<2.3.0,>=2.2.0->tensorflow==2.2) (3.0.4)\n",
            "Requirement already satisfied: idna<3,>=2.5 in /usr/local/lib/python3.7/dist-packages (from requests<3,>=2.21.0->tensorboard<2.3.0,>=2.2.0->tensorflow==2.2) (2.10)\n",
            "Requirement already satisfied: urllib3!=1.25.0,!=1.25.1,<1.26,>=1.21.1 in /usr/local/lib/python3.7/dist-packages (from requests<3,>=2.21.0->tensorboard<2.3.0,>=2.2.0->tensorflow==2.2) (1.24.3)\n",
            "Requirement already satisfied: oauthlib>=3.0.0 in /usr/local/lib/python3.7/dist-packages (from requests-oauthlib>=0.7.0->google-auth-oauthlib<0.5,>=0.4.1->tensorboard<2.3.0,>=2.2.0->tensorflow==2.2) (3.2.0)\n",
            "Installing collected packages: tensorflow-estimator, tensorboard, h5py, gast, tensorflow\n",
            "  Attempting uninstall: tensorflow-estimator\n",
            "    Found existing installation: tensorflow-estimator 2.8.0\n",
            "    Uninstalling tensorflow-estimator-2.8.0:\n",
            "      Successfully uninstalled tensorflow-estimator-2.8.0\n",
            "  Attempting uninstall: tensorboard\n",
            "    Found existing installation: tensorboard 2.8.0\n",
            "    Uninstalling tensorboard-2.8.0:\n",
            "      Successfully uninstalled tensorboard-2.8.0\n",
            "  Attempting uninstall: h5py\n",
            "    Found existing installation: h5py 3.1.0\n",
            "    Uninstalling h5py-3.1.0:\n",
            "      Successfully uninstalled h5py-3.1.0\n",
            "  Attempting uninstall: gast\n",
            "    Found existing installation: gast 0.5.3\n",
            "    Uninstalling gast-0.5.3:\n",
            "      Successfully uninstalled gast-0.5.3\n",
            "  Attempting uninstall: tensorflow\n",
            "    Found existing installation: tensorflow 2.8.0+zzzcolab20220506162203\n",
            "    Uninstalling tensorflow-2.8.0+zzzcolab20220506162203:\n",
            "      Successfully uninstalled tensorflow-2.8.0+zzzcolab20220506162203\n",
            "Successfully installed gast-0.3.3 h5py-2.10.0 tensorboard-2.2.2 tensorflow-2.2.0 tensorflow-estimator-2.2.0\n",
            "Collecting keras==2.3.1\n",
            "  Downloading Keras-2.3.1-py2.py3-none-any.whl (377 kB)\n",
            "\u001b[K     |████████████████████████████████| 377 kB 5.0 MB/s \n",
            "\u001b[?25hRequirement already satisfied: pyyaml in /usr/local/lib/python3.7/dist-packages (from keras==2.3.1) (3.13)\n",
            "Requirement already satisfied: six>=1.9.0 in /usr/local/lib/python3.7/dist-packages (from keras==2.3.1) (1.15.0)\n",
            "Requirement already satisfied: h5py in /usr/local/lib/python3.7/dist-packages (from keras==2.3.1) (2.10.0)\n",
            "Requirement already satisfied: keras-preprocessing>=1.0.5 in /usr/local/lib/python3.7/dist-packages (from keras==2.3.1) (1.1.2)\n",
            "Requirement already satisfied: numpy>=1.9.1 in /usr/local/lib/python3.7/dist-packages (from keras==2.3.1) (1.21.6)\n",
            "Collecting keras-applications>=1.0.6\n",
            "  Downloading Keras_Applications-1.0.8-py3-none-any.whl (50 kB)\n",
            "\u001b[K     |████████████████████████████████| 50 kB 6.0 MB/s \n",
            "\u001b[?25hRequirement already satisfied: scipy>=0.14 in /usr/local/lib/python3.7/dist-packages (from keras==2.3.1) (1.4.1)\n",
            "Installing collected packages: keras-applications, keras\n",
            "  Attempting uninstall: keras\n",
            "    Found existing installation: keras 2.8.0\n",
            "    Uninstalling keras-2.8.0:\n",
            "      Successfully uninstalled keras-2.8.0\n",
            "Successfully installed keras-2.3.1 keras-applications-1.0.8\n",
            "Collecting segmentation-models\n",
            "  Downloading segmentation_models-1.0.1-py3-none-any.whl (33 kB)\n",
            "Collecting image-classifiers==1.0.0\n",
            "  Downloading image_classifiers-1.0.0-py3-none-any.whl (19 kB)\n",
            "Collecting efficientnet==1.0.0\n",
            "  Downloading efficientnet-1.0.0-py3-none-any.whl (17 kB)\n",
            "Requirement already satisfied: keras-applications<=1.0.8,>=1.0.7 in /usr/local/lib/python3.7/dist-packages (from segmentation-models) (1.0.8)\n",
            "Requirement already satisfied: scikit-image in /usr/local/lib/python3.7/dist-packages (from efficientnet==1.0.0->segmentation-models) (0.18.3)\n",
            "Requirement already satisfied: numpy>=1.9.1 in /usr/local/lib/python3.7/dist-packages (from keras-applications<=1.0.8,>=1.0.7->segmentation-models) (1.21.6)\n",
            "Requirement already satisfied: h5py in /usr/local/lib/python3.7/dist-packages (from keras-applications<=1.0.8,>=1.0.7->segmentation-models) (2.10.0)\n",
            "Requirement already satisfied: six in /usr/local/lib/python3.7/dist-packages (from h5py->keras-applications<=1.0.8,>=1.0.7->segmentation-models) (1.15.0)\n",
            "Requirement already satisfied: pillow!=7.1.0,!=7.1.1,>=4.3.0 in /usr/local/lib/python3.7/dist-packages (from scikit-image->efficientnet==1.0.0->segmentation-models) (7.1.2)\n",
            "Requirement already satisfied: scipy>=1.0.1 in /usr/local/lib/python3.7/dist-packages (from scikit-image->efficientnet==1.0.0->segmentation-models) (1.4.1)\n",
            "Requirement already satisfied: imageio>=2.3.0 in /usr/local/lib/python3.7/dist-packages (from scikit-image->efficientnet==1.0.0->segmentation-models) (2.4.1)\n",
            "Requirement already satisfied: networkx>=2.0 in /usr/local/lib/python3.7/dist-packages (from scikit-image->efficientnet==1.0.0->segmentation-models) (2.6.3)\n",
            "Requirement already satisfied: tifffile>=2019.7.26 in /usr/local/lib/python3.7/dist-packages (from scikit-image->efficientnet==1.0.0->segmentation-models) (2021.11.2)\n",
            "Requirement already satisfied: PyWavelets>=1.1.1 in /usr/local/lib/python3.7/dist-packages (from scikit-image->efficientnet==1.0.0->segmentation-models) (1.3.0)\n",
            "Requirement already satisfied: matplotlib!=3.0.0,>=2.0.0 in /usr/local/lib/python3.7/dist-packages (from scikit-image->efficientnet==1.0.0->segmentation-models) (3.2.2)\n",
            "Requirement already satisfied: pyparsing!=2.0.4,!=2.1.2,!=2.1.6,>=2.0.1 in /usr/local/lib/python3.7/dist-packages (from matplotlib!=3.0.0,>=2.0.0->scikit-image->efficientnet==1.0.0->segmentation-models) (3.0.9)\n",
            "Requirement already satisfied: kiwisolver>=1.0.1 in /usr/local/lib/python3.7/dist-packages (from matplotlib!=3.0.0,>=2.0.0->scikit-image->efficientnet==1.0.0->segmentation-models) (1.4.2)\n",
            "Requirement already satisfied: python-dateutil>=2.1 in /usr/local/lib/python3.7/dist-packages (from matplotlib!=3.0.0,>=2.0.0->scikit-image->efficientnet==1.0.0->segmentation-models) (2.8.2)\n",
            "Requirement already satisfied: cycler>=0.10 in /usr/local/lib/python3.7/dist-packages (from matplotlib!=3.0.0,>=2.0.0->scikit-image->efficientnet==1.0.0->segmentation-models) (0.11.0)\n",
            "Requirement already satisfied: typing-extensions in /usr/local/lib/python3.7/dist-packages (from kiwisolver>=1.0.1->matplotlib!=3.0.0,>=2.0.0->scikit-image->efficientnet==1.0.0->segmentation-models) (4.2.0)\n",
            "Installing collected packages: image-classifiers, efficientnet, segmentation-models\n",
            "Successfully installed efficientnet-1.0.0 image-classifiers-1.0.0 segmentation-models-1.0.1\n"
          ]
        },
        {
          "output_type": "stream",
          "name": "stderr",
          "text": [
            "Using TensorFlow backend.\n"
          ]
        },
        {
          "output_type": "stream",
          "name": "stdout",
          "text": [
            "Segmentation Models: using `keras` framework.\n"
          ]
        }
      ]
    },
    {
      "cell_type": "markdown",
      "id": "f3f38f5c",
      "metadata": {
        "id": "f3f38f5c"
      },
      "source": [
        "**Import necessary libraries**"
      ]
    },
    {
      "cell_type": "code",
      "execution_count": null,
      "id": "b83efc03",
      "metadata": {
        "id": "b83efc03"
      },
      "outputs": [],
      "source": [
        "import tensorflow as tf\n",
        "import segmentation_models as sm\n",
        "import glob \n",
        "import cv2\n",
        "import os\n",
        "import numpy as np\n",
        "from matplotlib import pyplot as plt\n",
        "import keras\n",
        "from tensorflow.keras.utils import normalize\n",
        "from keras.metrics import MeanIoU\n",
        "from tqdm import tqdm\n",
        "from albumentations import CenterCrop, RandomRotate90, GridDistortion, HorizontalFlip, VerticalFlip"
      ]
    },
    {
      "cell_type": "markdown",
      "id": "37b34e1a",
      "metadata": {
        "id": "37b34e1a"
      },
      "source": [
        "**Preparing the datasest**"
      ]
    },
    {
      "cell_type": "code",
      "execution_count": null,
      "id": "ac4c0352",
      "metadata": {
        "id": "ac4c0352"
      },
      "outputs": [],
      "source": [
        "SIZE_X=128\n",
        "SIZE_Y=128\n",
        "n_classes=12"
      ]
    },
    {
      "cell_type": "markdown",
      "source": [
        "**Mounting the drive**"
      ],
      "metadata": {
        "id": "ME8Mr2WGj0t5"
      },
      "id": "ME8Mr2WGj0t5"
    },
    {
      "cell_type": "code",
      "source": [
        "from google.colab import drive\n",
        "drive.mount('/content/drive')"
      ],
      "metadata": {
        "colab": {
          "base_uri": "https://localhost:8080/"
        },
        "id": "CZQt0shxvYzd",
        "outputId": "544023da-38a9-45d7-98d9-e7341b2b8c0b"
      },
      "id": "CZQt0shxvYzd",
      "execution_count": null,
      "outputs": [
        {
          "output_type": "stream",
          "name": "stdout",
          "text": [
            "Drive already mounted at /content/drive; to attempt to forcibly remount, call drive.mount(\"/content/drive\", force_remount=True).\n"
          ]
        }
      ]
    },
    {
      "cell_type": "markdown",
      "source": [
        "**Augmenting training data**"
      ],
      "metadata": {
        "id": "ro4WvyXSj5Al"
      },
      "id": "ro4WvyXSj5Al"
    },
    {
      "cell_type": "code",
      "source": [
        "def load_data(path):\n",
        "    images = sorted(glob.glob(os.path.join(path, \"images_prepped_train/*\")))\n",
        "    masks = sorted(glob.glob(os.path.join(path, \"annotations_prepped_train/*\")))\n",
        "    return images, masks\n",
        "    \n",
        "def create_dir(path):\n",
        "    if not os.path.exists(path):\n",
        "        os.makedirs(path)\n",
        "\n",
        "def augment_data(images, masks, save_path, augment=True):\n",
        "    H = 128\n",
        "    W = 128\n",
        "\n",
        "    for x, y in tqdm(zip(images, masks), total=len(images)):\n",
        "        name = x.split(\"/\")[-1].split(\".\")\n",
        "        \"\"\" Extracting the name and extension of the image and the mask. \"\"\"\n",
        "        image_name = name[0]\n",
        "        image_extn = name[1]\n",
        "\n",
        "        name = y.split(\"/\")[-1].split(\".\")\n",
        "        mask_name = name[0]\n",
        "        mask_extn = name[1]\n",
        "\n",
        "        \"\"\" Reading image and mask. \"\"\"\n",
        "        x = cv2.imread(x, cv2.IMREAD_COLOR)\n",
        "        y = cv2.imread(y, cv2.IMREAD_COLOR)\n",
        "\n",
        "        \"\"\" Augmentation \"\"\"\n",
        "        if augment == True:\n",
        "            aug = CenterCrop(H, W, p=1.0)\n",
        "            augmented = aug(image=x, mask=y)\n",
        "            x1 = augmented[\"image\"]\n",
        "            y1 = augmented[\"mask\"]\n",
        "\n",
        "            aug = RandomRotate90(p=1.0)\n",
        "            augmented = aug(image=x, mask=y)\n",
        "            x2 = augmented['image']\n",
        "            y2 = augmented['mask']\n",
        "\n",
        "            aug = GridDistortion(p=1.0)\n",
        "            augmented = aug(image=x, mask=y)\n",
        "            x3 = augmented['image']\n",
        "            y3 = augmented['mask']\n",
        "\n",
        "            aug = HorizontalFlip(p=1.0)\n",
        "            augmented = aug(image=x, mask=y)\n",
        "            x4 = augmented['image']\n",
        "            y4 = augmented['mask']\n",
        "\n",
        "            aug = VerticalFlip(p=1.0)\n",
        "            augmented = aug(image=x, mask=y)\n",
        "            x5 = augmented['image']\n",
        "            y5 = augmented['mask']\n",
        "\n",
        "            save_images = [x, x1, x2, x3, x4, x5]\n",
        "            save_masks =  [y, y1, y2, y3, y4, y5]\n",
        "\n",
        "        else:\n",
        "            save_images = [x]\n",
        "            save_masks = [y]\n",
        "\n",
        "        \"\"\" Saving the image and mask. \"\"\"\n",
        "        idx = 0\n",
        "        for i, m in zip(save_images, save_masks):\n",
        "            i = cv2.resize(i, (W, H))\n",
        "            m = cv2.resize(m, (W, H))\n",
        "\n",
        "            if len(images) == 1:\n",
        "                tmp_img_name = f\"{image_name}.{image_extn}\"\n",
        "                tmp_mask_name = f\"{mask_name}.{mask_extn}\"\n",
        "            else:\n",
        "                tmp_img_name = f\"{image_name}_{idx}.{image_extn}\"\n",
        "                tmp_mask_name = f\"{mask_name}_{idx}.{mask_extn}\"\n",
        "\n",
        "            image_path = os.path.join(save_path, \"images_prepped_train\", tmp_img_name)\n",
        "            mask_path = os.path.join(save_path, \"annotations_prepped_train\", tmp_mask_name)\n",
        "\n",
        "            cv2.imwrite(image_path, i)\n",
        "            cv2.imwrite(mask_path, m)\n",
        "\n",
        "            idx += 1"
      ],
      "metadata": {
        "id": "jKdemMN1w7yE"
      },
      "id": "jKdemMN1w7yE",
      "execution_count": null,
      "outputs": []
    },
    {
      "cell_type": "code",
      "source": [
        "\"\"\" Loading original images and masks. \"\"\"\n",
        "path = \"/content/drive/MyDrive/A3_Dataset/dataset1/\"\n",
        "images, masks = load_data(path)\n",
        "print(f\"Original Images: {len(images)} - Original Masks: {len(masks)}\")\n",
        "\n",
        "\"\"\" Creating folders. \"\"\"\n",
        "create_dir(\"/content/drive/MyDrive/A3_Dataset/new_data/images_prepped_train\")\n",
        "create_dir(\"/content/drive/MyDrive/A3_Dataset/new_data/annotations_prepped_train\")\n",
        "\n",
        "\"\"\" Applying data augmentation. \"\"\"\n",
        "augment_data(images, masks, \"/content/drive/MyDrive/A3_Dataset/new_data/\", augment=True)\n",
        "\n",
        "\"\"\" Loading augmented images and masks. \"\"\"\n",
        "images, masks = load_data(\"/content/drive/MyDrive/A3_Dataset/new_data/\")\n",
        "print(f\"Augmented Images: {len(images)} - Augmented Masks: {len(masks)}\")"
      ],
      "metadata": {
        "id": "5u3gHGa0xFp2"
      },
      "id": "5u3gHGa0xFp2",
      "execution_count": null,
      "outputs": []
    },
    {
      "cell_type": "code",
      "execution_count": null,
      "id": "f189de86",
      "metadata": {
        "id": "f189de86"
      },
      "outputs": [],
      "source": [
        "train_images=[]\n",
        "for directory_path in glob.glob(\"/content/drive/MyDrive/A3_Dataset/dataset1/images_prepped_train/\"):\n",
        "    for img_path in glob.glob(os.path.join(directory_path, \"*.png\")):\n",
        "        img=cv2.imread(img_path,1)\n",
        "        img=cv2.resize(img,(SIZE_Y,SIZE_X))\n",
        "        train_images.append(img)"
      ]
    },
    {
      "cell_type": "code",
      "execution_count": null,
      "id": "f655c9c8",
      "metadata": {
        "id": "f655c9c8"
      },
      "outputs": [],
      "source": [
        "train_images=np.array(train_images)"
      ]
    },
    {
      "cell_type": "code",
      "execution_count": null,
      "id": "96f15fca",
      "metadata": {
        "id": "96f15fca"
      },
      "outputs": [],
      "source": [
        "train_masks=[]\n",
        "for directory_path in glob.glob(\"/content/drive/MyDrive/A3_Dataset/dataset1/annotations_prepped_train/\"):\n",
        "    for mask_path in glob.glob(os.path.join(directory_path,\"*.png\")):\n",
        "        mask=cv2.imread(mask_path,0)\n",
        "        mask = cv2.resize(mask, (SIZE_Y, SIZE_X), interpolation = cv2.INTER_NEAREST)\n",
        "        train_masks.append(mask)"
      ]
    },
    {
      "cell_type": "code",
      "execution_count": null,
      "id": "fd6dc44e",
      "metadata": {
        "id": "fd6dc44e"
      },
      "outputs": [],
      "source": [
        "train_masks=np.array(train_masks)"
      ]
    },
    {
      "cell_type": "code",
      "execution_count": null,
      "id": "6e2fefa5",
      "metadata": {
        "colab": {
          "base_uri": "https://localhost:8080/"
        },
        "id": "6e2fefa5",
        "outputId": "962721e2-6c6c-48e5-9b78-87a60063198d"
      },
      "outputs": [
        {
          "output_type": "stream",
          "name": "stdout",
          "text": [
            "(367, 128, 128)\n"
          ]
        },
        {
          "output_type": "stream",
          "name": "stderr",
          "text": [
            "/usr/local/lib/python3.7/dist-packages/sklearn/preprocessing/_label.py:115: DataConversionWarning: A column-vector y was passed when a 1d array was expected. Please change the shape of y to (n_samples, ), for example using ravel().\n",
            "  y = column_or_1d(y, warn=True)\n"
          ]
        },
        {
          "output_type": "execute_result",
          "data": {
            "text/plain": [
              "array([ 0,  1,  2,  3,  4,  5,  6,  7,  8,  9, 10, 11])"
            ]
          },
          "metadata": {},
          "execution_count": 9
        }
      ],
      "source": [
        "from sklearn.preprocessing import LabelEncoder\n",
        "labelencoder= LabelEncoder()\n",
        "print(train_masks.shape)\n",
        "n,h,w=train_masks.shape\n",
        "train_masks_reshaped=train_masks.reshape(-1,1)\n",
        "train_masks_reshaped_encoded=labelencoder.fit_transform(train_masks_reshaped)\n",
        "train_masks_encoded_original_shape=train_masks_reshaped_encoded.reshape(n,h,w)\n",
        "np.unique(train_masks_encoded_original_shape)"
      ]
    },
    {
      "cell_type": "code",
      "execution_count": null,
      "id": "cb5b65f2",
      "metadata": {
        "id": "cb5b65f2"
      },
      "outputs": [],
      "source": [
        "train_masks_input=np.expand_dims(train_masks_encoded_original_shape, axis=3)"
      ]
    },
    {
      "cell_type": "code",
      "execution_count": null,
      "id": "49396ed7",
      "metadata": {
        "id": "49396ed7"
      },
      "outputs": [],
      "source": [
        "test_images=[]\n",
        "for directory_path in glob.glob(\"/content/drive/MyDrive/A3_Dataset/dataset1/images_prepped_test/\"):\n",
        "    for img_path in glob.glob(os.path.join(directory_path, \"*.png\")):\n",
        "        img=cv2.imread(img_path,1)\n",
        "        img=cv2.resize(img,(SIZE_Y,SIZE_X))\n",
        "        test_images.append(img)"
      ]
    },
    {
      "cell_type": "code",
      "execution_count": null,
      "id": "09c2a2ce",
      "metadata": {
        "id": "09c2a2ce"
      },
      "outputs": [],
      "source": [
        "test_images=np.array(test_images)"
      ]
    },
    {
      "cell_type": "code",
      "execution_count": null,
      "id": "41cec33b",
      "metadata": {
        "id": "41cec33b"
      },
      "outputs": [],
      "source": [
        "test_masks=[]\n",
        "for directory_path in glob.glob(\"/content/drive/MyDrive/A3_Dataset/dataset1/annotations_prepped_test/\"):\n",
        "    for mask_path in glob.glob(os.path.join(directory_path,\"*.png\")):\n",
        "        mask=cv2.imread(mask_path,0)\n",
        "        mask=cv2.resize(mask,(SIZE_Y,SIZE_X))\n",
        "        mask = cv2.resize(mask, (SIZE_Y, SIZE_X), interpolation = cv2.INTER_NEAREST)\n",
        "        test_masks.append(mask)"
      ]
    },
    {
      "cell_type": "code",
      "execution_count": null,
      "id": "b560609a",
      "metadata": {
        "id": "b560609a"
      },
      "outputs": [],
      "source": [
        "test_masks=np.array(test_masks)"
      ]
    },
    {
      "cell_type": "code",
      "execution_count": null,
      "id": "4ffa53cd",
      "metadata": {
        "colab": {
          "base_uri": "https://localhost:8080/"
        },
        "id": "4ffa53cd",
        "outputId": "a8f30cd4-f73a-4be9-fabf-19a2399c904e"
      },
      "outputs": [
        {
          "output_type": "stream",
          "name": "stdout",
          "text": [
            "(101, 128, 128)\n"
          ]
        },
        {
          "output_type": "stream",
          "name": "stderr",
          "text": [
            "/usr/local/lib/python3.7/dist-packages/sklearn/preprocessing/_label.py:115: DataConversionWarning: A column-vector y was passed when a 1d array was expected. Please change the shape of y to (n_samples, ), for example using ravel().\n",
            "  y = column_or_1d(y, warn=True)\n"
          ]
        },
        {
          "output_type": "execute_result",
          "data": {
            "text/plain": [
              "array([ 0,  1,  2,  3,  4,  5,  6,  7,  8,  9, 10, 11])"
            ]
          },
          "metadata": {},
          "execution_count": 19
        }
      ],
      "source": [
        "from sklearn.preprocessing import LabelEncoder\n",
        "labelencoder= LabelEncoder()\n",
        "print(test_masks.shape)\n",
        "n,h,w=test_masks.shape\n",
        "test_masks_reshaped=test_masks.reshape(-1,1)\n",
        "test_masks_reshaped_encoded=labelencoder.fit_transform(test_masks_reshaped)\n",
        "test_masks_encoded_original_shape=test_masks_reshaped_encoded.reshape(n,h,w)\n",
        "np.unique(test_masks_encoded_original_shape)"
      ]
    },
    {
      "cell_type": "code",
      "execution_count": null,
      "id": "a601087e",
      "metadata": {
        "id": "a601087e"
      },
      "outputs": [],
      "source": [
        "test_masks_input=np.expand_dims(test_masks_encoded_original_shape, axis=3)"
      ]
    },
    {
      "cell_type": "markdown",
      "id": "7de5a214",
      "metadata": {
        "id": "7de5a214"
      },
      "source": [
        "**Split 20% of training images into validation set** "
      ]
    },
    {
      "cell_type": "code",
      "execution_count": null,
      "id": "e55e73ab",
      "metadata": {
        "id": "e55e73ab"
      },
      "outputs": [],
      "source": [
        "from sklearn.model_selection import train_test_split\n",
        "X1, X_val, y1, y_val = train_test_split(train_images, train_masks_input, test_size = 0.20, random_state = 0)"
      ]
    },
    {
      "cell_type": "code",
      "execution_count": null,
      "id": "e4cc4418",
      "metadata": {
        "id": "e4cc4418"
      },
      "outputs": [],
      "source": [
        "X_train=X1\n",
        "y_train=y1\n",
        "X_validation=X_val\n",
        "y_validation=y_val\n",
        "X_test= test_images\n",
        "y_test=test_masks_input"
      ]
    },
    {
      "cell_type": "code",
      "execution_count": null,
      "id": "a9805754",
      "metadata": {
        "colab": {
          "base_uri": "https://localhost:8080/"
        },
        "id": "a9805754",
        "outputId": "8f9bf745-d3e2-464e-b26b-61b83d432692"
      },
      "outputs": [
        {
          "output_type": "stream",
          "name": "stdout",
          "text": [
            "Total training images= 293\n",
            "Total validation images= 74\n",
            "Total test images= 101\n"
          ]
        }
      ],
      "source": [
        "print(\"Total training images=\",X_train.shape[0])\n",
        "print(\"Total validation images=\",X_validation.shape[0])\n",
        "print(\"Total test images=\",X_test.shape[0])"
      ]
    },
    {
      "cell_type": "code",
      "execution_count": null,
      "id": "f6667d63",
      "metadata": {
        "colab": {
          "base_uri": "https://localhost:8080/"
        },
        "id": "f6667d63",
        "outputId": "ca0d53c2-521e-4b25-8400-21a4fb90ec7e"
      },
      "outputs": [
        {
          "output_type": "stream",
          "name": "stdout",
          "text": [
            "Classes values in the dataset are [ 0  1  2  3  4  5  6  7  8  9 10 11]\n"
          ]
        }
      ],
      "source": [
        "print(\"Classes values in the dataset are\", np.unique(y_train))"
      ]
    },
    {
      "cell_type": "code",
      "execution_count": null,
      "id": "c7f9dac2",
      "metadata": {
        "colab": {
          "base_uri": "https://localhost:8080/"
        },
        "id": "c7f9dac2",
        "outputId": "75b5ad7d-704c-447d-9cb8-66fe03a01c40"
      },
      "outputs": [
        {
          "output_type": "stream",
          "name": "stdout",
          "text": [
            "(293, 128, 128, 12)\n"
          ]
        }
      ],
      "source": [
        "from tensorflow.keras.utils import to_categorical\n",
        "train_masks_cat=to_categorical(y_train, num_classes=12)\n",
        "print(train_masks_cat.shape)\n",
        "y_train_cat=train_masks_cat.reshape((y_train.shape[0], y_train.shape[1], y_train.shape[2], 12))"
      ]
    },
    {
      "cell_type": "code",
      "execution_count": null,
      "id": "cf0e9974",
      "metadata": {
        "colab": {
          "base_uri": "https://localhost:8080/"
        },
        "id": "cf0e9974",
        "outputId": "589b17a6-2994-43b6-8c6d-012469c4c2c5"
      },
      "outputs": [
        {
          "output_type": "stream",
          "name": "stdout",
          "text": [
            "(101, 128, 128, 12)\n"
          ]
        }
      ],
      "source": [
        "test_masks_cat=to_categorical(y_test, num_classes=12)\n",
        "print(test_masks_cat.shape)\n",
        "y_test_cat=test_masks_cat.reshape((y_test.shape[0], y_test.shape[1], y_test.shape[2], 12))"
      ]
    },
    {
      "cell_type": "code",
      "execution_count": null,
      "id": "8cc81396",
      "metadata": {
        "colab": {
          "base_uri": "https://localhost:8080/"
        },
        "id": "8cc81396",
        "outputId": "4cc4ade2-fbf8-4d24-e279-ed9fe13ddf4c"
      },
      "outputs": [
        {
          "output_type": "stream",
          "name": "stdout",
          "text": [
            "(74, 128, 128, 12)\n"
          ]
        }
      ],
      "source": [
        "val_masks_cat=to_categorical(y_val, num_classes=12)\n",
        "print(val_masks_cat.shape)\n",
        "y_val_cat=val_masks_cat.reshape((y_val.shape[0], y_val.shape[1], y_val.shape[2], 12))"
      ]
    },
    {
      "cell_type": "markdown",
      "id": "507d1e85",
      "metadata": {
        "id": "507d1e85"
      },
      "source": [
        "**Setting training parameters** "
      ]
    },
    {
      "cell_type": "code",
      "execution_count": null,
      "id": "ba2cdc84",
      "metadata": {
        "id": "ba2cdc84"
      },
      "outputs": [],
      "source": [
        "n_classes=12\n",
        "activation='softmax'\n",
        "LR=0.0001\n",
        "import tensorflow \n",
        "optim=tensorflow.keras.optimizers.Adam(LR)"
      ]
    },
    {
      "cell_type": "code",
      "execution_count": null,
      "id": "99ba8f04",
      "metadata": {
        "colab": {
          "base_uri": "https://localhost:8080/",
          "height": 35
        },
        "id": "99ba8f04",
        "outputId": "659d78f5-3480-48b7-a570-2e239efb317a"
      },
      "outputs": [
        {
          "output_type": "execute_result",
          "data": {
            "text/plain": [
              "'tf.keras'"
            ],
            "application/vnd.google.colaboratory.intrinsic+json": {
              "type": "string"
            }
          },
          "metadata": {},
          "execution_count": 29
        }
      ],
      "source": [
        "import segmentation_models as sm\n",
        "\n",
        "sm.set_framework('tf.keras')\n",
        "\n",
        "sm.framework()\n"
      ]
    },
    {
      "cell_type": "code",
      "execution_count": null,
      "id": "f2fdeba8",
      "metadata": {
        "id": "f2fdeba8"
      },
      "outputs": [],
      "source": [
        "dice_loss = sm.losses.DiceLoss(class_weights=np.array([0.25, 0.25, 0.25, 0.25,0.25,0.25,0.25,0.25,0.25,0.25,0.25,0.25])) \n",
        "focal_loss = sm.losses.CategoricalFocalLoss()\n",
        "total_loss = dice_loss + (1 * focal_loss)\n",
        "\n",
        "metrics = [sm.metrics.IOUScore(threshold=0.5), sm.metrics.FScore(threshold=0.5)]\n"
      ]
    },
    {
      "cell_type": "markdown",
      "id": "1bddb15b",
      "metadata": {
        "id": "1bddb15b"
      },
      "source": [
        "**Using VGG as backbone architecture for training**"
      ]
    },
    {
      "cell_type": "code",
      "execution_count": null,
      "id": "78c0acbd",
      "metadata": {
        "id": "78c0acbd",
        "outputId": "507c0d92-9c6a-4ea7-fd8c-60d931b97166"
      },
      "outputs": [
        {
          "name": "stdout",
          "output_type": "stream",
          "text": [
            "Model: \"model\"\n",
            "__________________________________________________________________________________________________\n",
            " Layer (type)                   Output Shape         Param #     Connected to                     \n",
            "==================================================================================================\n",
            " input_1 (InputLayer)           [(None, None, None,  0           []                               \n",
            "                                 3)]                                                              \n",
            "                                                                                                  \n",
            " block1_conv1 (Conv2D)          (None, None, None,   1792        ['input_1[0][0]']                \n",
            "                                64)                                                               \n",
            "                                                                                                  \n",
            " block1_conv2 (Conv2D)          (None, None, None,   36928       ['block1_conv1[0][0]']           \n",
            "                                64)                                                               \n",
            "                                                                                                  \n",
            " block1_pool (MaxPooling2D)     (None, None, None,   0           ['block1_conv2[0][0]']           \n",
            "                                64)                                                               \n",
            "                                                                                                  \n",
            " block2_conv1 (Conv2D)          (None, None, None,   73856       ['block1_pool[0][0]']            \n",
            "                                128)                                                              \n",
            "                                                                                                  \n",
            " block2_conv2 (Conv2D)          (None, None, None,   147584      ['block2_conv1[0][0]']           \n",
            "                                128)                                                              \n",
            "                                                                                                  \n",
            " block2_pool (MaxPooling2D)     (None, None, None,   0           ['block2_conv2[0][0]']           \n",
            "                                128)                                                              \n",
            "                                                                                                  \n",
            " block3_conv1 (Conv2D)          (None, None, None,   295168      ['block2_pool[0][0]']            \n",
            "                                256)                                                              \n",
            "                                                                                                  \n",
            " block3_conv2 (Conv2D)          (None, None, None,   590080      ['block3_conv1[0][0]']           \n",
            "                                256)                                                              \n",
            "                                                                                                  \n",
            " block3_conv3 (Conv2D)          (None, None, None,   590080      ['block3_conv2[0][0]']           \n",
            "                                256)                                                              \n",
            "                                                                                                  \n",
            " block3_pool (MaxPooling2D)     (None, None, None,   0           ['block3_conv3[0][0]']           \n",
            "                                256)                                                              \n",
            "                                                                                                  \n",
            " block4_conv1 (Conv2D)          (None, None, None,   1180160     ['block3_pool[0][0]']            \n",
            "                                512)                                                              \n",
            "                                                                                                  \n",
            " block4_conv2 (Conv2D)          (None, None, None,   2359808     ['block4_conv1[0][0]']           \n",
            "                                512)                                                              \n",
            "                                                                                                  \n",
            " block4_conv3 (Conv2D)          (None, None, None,   2359808     ['block4_conv2[0][0]']           \n",
            "                                512)                                                              \n",
            "                                                                                                  \n",
            " block4_pool (MaxPooling2D)     (None, None, None,   0           ['block4_conv3[0][0]']           \n",
            "                                512)                                                              \n",
            "                                                                                                  \n",
            " block5_conv1 (Conv2D)          (None, None, None,   2359808     ['block4_pool[0][0]']            \n",
            "                                512)                                                              \n",
            "                                                                                                  \n",
            " block5_conv2 (Conv2D)          (None, None, None,   2359808     ['block5_conv1[0][0]']           \n",
            "                                512)                                                              \n",
            "                                                                                                  \n",
            " block5_conv3 (Conv2D)          (None, None, None,   2359808     ['block5_conv2[0][0]']           \n",
            "                                512)                                                              \n",
            "                                                                                                  \n",
            " block5_pool (MaxPooling2D)     (None, None, None,   0           ['block5_conv3[0][0]']           \n",
            "                                512)                                                              \n",
            "                                                                                                  \n",
            " center_block1_conv (Conv2D)    (None, None, None,   2359296     ['block5_pool[0][0]']            \n",
            "                                512)                                                              \n",
            "                                                                                                  \n",
            " center_block1_bn (BatchNormali  (None, None, None,   2048       ['center_block1_conv[0][0]']     \n",
            " zation)                        512)                                                              \n",
            "                                                                                                  \n",
            " center_block1_relu (Activation  (None, None, None,   0          ['center_block1_bn[0][0]']       \n",
            " )                              512)                                                              \n",
            "                                                                                                  \n",
            " center_block2_conv (Conv2D)    (None, None, None,   2359296     ['center_block1_relu[0][0]']     \n",
            "                                512)                                                              \n",
            "                                                                                                  \n",
            " center_block2_bn (BatchNormali  (None, None, None,   2048       ['center_block2_conv[0][0]']     \n",
            " zation)                        512)                                                              \n",
            "                                                                                                  \n",
            " center_block2_relu (Activation  (None, None, None,   0          ['center_block2_bn[0][0]']       \n",
            " )                              512)                                                              \n",
            "                                                                                                  \n",
            " decoder_stage0_upsampling (UpS  (None, None, None,   0          ['center_block2_relu[0][0]']     \n",
            " ampling2D)                     512)                                                              \n",
            "                                                                                                  \n",
            " decoder_stage0_concat (Concate  (None, None, None,   0          ['decoder_stage0_upsampling[0][0]\n",
            " nate)                          1024)                            ',                               \n",
            "                                                                  'block5_conv3[0][0]']           \n",
            "                                                                                                  \n",
            " decoder_stage0a_conv (Conv2D)  (None, None, None,   2359296     ['decoder_stage0_concat[0][0]']  \n",
            "                                256)                                                              \n",
            "                                                                                                  \n",
            " decoder_stage0a_bn (BatchNorma  (None, None, None,   1024       ['decoder_stage0a_conv[0][0]']   \n",
            " lization)                      256)                                                              \n",
            "                                                                                                  \n",
            " decoder_stage0a_relu (Activati  (None, None, None,   0          ['decoder_stage0a_bn[0][0]']     \n",
            " on)                            256)                                                              \n",
            "                                                                                                  \n",
            " decoder_stage0b_conv (Conv2D)  (None, None, None,   589824      ['decoder_stage0a_relu[0][0]']   \n",
            "                                256)                                                              \n",
            "                                                                                                  \n",
            " decoder_stage0b_bn (BatchNorma  (None, None, None,   1024       ['decoder_stage0b_conv[0][0]']   \n",
            " lization)                      256)                                                              \n",
            "                                                                                                  \n",
            " decoder_stage0b_relu (Activati  (None, None, None,   0          ['decoder_stage0b_bn[0][0]']     \n",
            " on)                            256)                                                              \n",
            "                                                                                                  \n",
            " decoder_stage1_upsampling (UpS  (None, None, None,   0          ['decoder_stage0b_relu[0][0]']   \n",
            " ampling2D)                     256)                                                              \n",
            "                                                                                                  \n",
            " decoder_stage1_concat (Concate  (None, None, None,   0          ['decoder_stage1_upsampling[0][0]\n",
            " nate)                          768)                             ',                               \n",
            "                                                                  'block4_conv3[0][0]']           \n",
            "                                                                                                  \n",
            " decoder_stage1a_conv (Conv2D)  (None, None, None,   884736      ['decoder_stage1_concat[0][0]']  \n",
            "                                128)                                                              \n",
            "                                                                                                  \n",
            " decoder_stage1a_bn (BatchNorma  (None, None, None,   512        ['decoder_stage1a_conv[0][0]']   \n",
            " lization)                      128)                                                              \n",
            "                                                                                                  \n",
            " decoder_stage1a_relu (Activati  (None, None, None,   0          ['decoder_stage1a_bn[0][0]']     \n",
            " on)                            128)                                                              \n",
            "                                                                                                  \n",
            " decoder_stage1b_conv (Conv2D)  (None, None, None,   147456      ['decoder_stage1a_relu[0][0]']   \n",
            "                                128)                                                              \n",
            "                                                                                                  \n",
            " decoder_stage1b_bn (BatchNorma  (None, None, None,   512        ['decoder_stage1b_conv[0][0]']   \n",
            " lization)                      128)                                                              \n",
            "                                                                                                  \n",
            " decoder_stage1b_relu (Activati  (None, None, None,   0          ['decoder_stage1b_bn[0][0]']     \n",
            " on)                            128)                                                              \n",
            "                                                                                                  \n",
            " decoder_stage2_upsampling (UpS  (None, None, None,   0          ['decoder_stage1b_relu[0][0]']   \n",
            " ampling2D)                     128)                                                              \n",
            "                                                                                                  \n",
            " decoder_stage2_concat (Concate  (None, None, None,   0          ['decoder_stage2_upsampling[0][0]\n",
            " nate)                          384)                             ',                               \n",
            "                                                                  'block3_conv3[0][0]']           \n",
            "                                                                                                  \n",
            " decoder_stage2a_conv (Conv2D)  (None, None, None,   221184      ['decoder_stage2_concat[0][0]']  \n",
            "                                64)                                                               \n",
            "                                                                                                  \n",
            " decoder_stage2a_bn (BatchNorma  (None, None, None,   256        ['decoder_stage2a_conv[0][0]']   \n",
            " lization)                      64)                                                               \n",
            "                                                                                                  \n",
            " decoder_stage2a_relu (Activati  (None, None, None,   0          ['decoder_stage2a_bn[0][0]']     \n",
            " on)                            64)                                                               \n",
            "                                                                                                  \n",
            " decoder_stage2b_conv (Conv2D)  (None, None, None,   36864       ['decoder_stage2a_relu[0][0]']   \n",
            "                                64)                                                               \n",
            "                                                                                                  \n",
            " decoder_stage2b_bn (BatchNorma  (None, None, None,   256        ['decoder_stage2b_conv[0][0]']   \n",
            " lization)                      64)                                                               \n",
            "                                                                                                  \n",
            " decoder_stage2b_relu (Activati  (None, None, None,   0          ['decoder_stage2b_bn[0][0]']     \n",
            " on)                            64)                                                               \n",
            "                                                                                                  \n",
            " decoder_stage3_upsampling (UpS  (None, None, None,   0          ['decoder_stage2b_relu[0][0]']   \n",
            " ampling2D)                     64)                                                               \n",
            "                                                                                                  \n",
            " decoder_stage3_concat (Concate  (None, None, None,   0          ['decoder_stage3_upsampling[0][0]\n",
            " nate)                          192)                             ',                               \n",
            "                                                                  'block2_conv2[0][0]']           \n",
            "                                                                                                  \n",
            " decoder_stage3a_conv (Conv2D)  (None, None, None,   55296       ['decoder_stage3_concat[0][0]']  \n",
            "                                32)                                                               \n",
            "                                                                                                  \n",
            " decoder_stage3a_bn (BatchNorma  (None, None, None,   128        ['decoder_stage3a_conv[0][0]']   \n",
            " lization)                      32)                                                               \n",
            "                                                                                                  \n",
            " decoder_stage3a_relu (Activati  (None, None, None,   0          ['decoder_stage3a_bn[0][0]']     \n",
            " on)                            32)                                                               \n",
            "                                                                                                  \n",
            " decoder_stage3b_conv (Conv2D)  (None, None, None,   9216        ['decoder_stage3a_relu[0][0]']   \n",
            "                                32)                                                               \n",
            "                                                                                                  \n",
            " decoder_stage3b_bn (BatchNorma  (None, None, None,   128        ['decoder_stage3b_conv[0][0]']   \n",
            " lization)                      32)                                                               \n",
            "                                                                                                  \n",
            " decoder_stage3b_relu (Activati  (None, None, None,   0          ['decoder_stage3b_bn[0][0]']     \n",
            " on)                            32)                                                               \n",
            "                                                                                                  \n",
            " decoder_stage4_upsampling (UpS  (None, None, None,   0          ['decoder_stage3b_relu[0][0]']   \n",
            " ampling2D)                     32)                                                               \n",
            "                                                                                                  \n",
            " decoder_stage4a_conv (Conv2D)  (None, None, None,   4608        ['decoder_stage4_upsampling[0][0]\n",
            "                                16)                              ']                               \n",
            "                                                                                                  \n",
            " decoder_stage4a_bn (BatchNorma  (None, None, None,   64         ['decoder_stage4a_conv[0][0]']   \n",
            " lization)                      16)                                                               \n",
            "                                                                                                  \n",
            " decoder_stage4a_relu (Activati  (None, None, None,   0          ['decoder_stage4a_bn[0][0]']     \n",
            " on)                            16)                                                               \n",
            "                                                                                                  \n",
            " decoder_stage4b_conv (Conv2D)  (None, None, None,   2304        ['decoder_stage4a_relu[0][0]']   \n",
            "                                16)                                                               \n",
            "                                                                                                  \n",
            " decoder_stage4b_bn (BatchNorma  (None, None, None,   64         ['decoder_stage4b_conv[0][0]']   \n",
            " lization)                      16)                                                               \n",
            "                                                                                                  \n",
            " decoder_stage4b_relu (Activati  (None, None, None,   0          ['decoder_stage4b_bn[0][0]']     \n",
            " on)                            16)                                                               \n",
            "                                                                                                  \n",
            " final_conv (Conv2D)            (None, None, None,   1740        ['decoder_stage4b_relu[0][0]']   \n",
            "                                12)                                                               \n",
            "                                                                                                  \n",
            " softmax (Activation)           (None, None, None,   0           ['final_conv[0][0]']             \n",
            "                                12)                                                               \n",
            "                                                                                                  \n",
            "==================================================================================================\n",
            "Total params: 23,753,868\n",
            "Trainable params: 23,749,836\n",
            "Non-trainable params: 4,032\n",
            "__________________________________________________________________________________________________\n",
            "None\n",
            "Epoch 1/30\n"
          ]
        },
        {
          "name": "stdout",
          "output_type": "stream",
          "text": [
            "37/37 [==============================] - 165s 4s/step - loss: 1.0234 - iou_score: 0.0056 - f1-score: 0.0101 - val_loss: 1.0490 - val_iou_score: 0.0294 - val_f1-score: 0.0458\n",
            "Epoch 2/30\n",
            "37/37 [==============================] - 156s 4s/step - loss: 0.9978 - iou_score: 0.0577 - f1-score: 0.0768 - val_loss: 1.0246 - val_iou_score: 0.0536 - val_f1-score: 0.0735\n",
            "Epoch 3/30\n",
            "37/37 [==============================] - 157s 4s/step - loss: 0.9782 - iou_score: 0.0916 - f1-score: 0.1171 - val_loss: 1.0184 - val_iou_score: 0.0561 - val_f1-score: 0.0746\n",
            "Epoch 4/30\n",
            "37/37 [==============================] - 156s 4s/step - loss: 0.9628 - iou_score: 0.1677 - f1-score: 0.2186 - val_loss: 1.0124 - val_iou_score: 0.0650 - val_f1-score: 0.0907\n",
            "Epoch 5/30\n",
            "37/37 [==============================] - 157s 4s/step - loss: 0.9512 - iou_score: 0.2123 - f1-score: 0.2666 - val_loss: 1.0107 - val_iou_score: 0.0774 - val_f1-score: 0.1115\n",
            "Epoch 6/30\n",
            "37/37 [==============================] - 157s 4s/step - loss: 0.9430 - iou_score: 0.2394 - f1-score: 0.2981 - val_loss: 1.0092 - val_iou_score: 0.0902 - val_f1-score: 0.1292\n",
            "Epoch 7/30\n",
            "37/37 [==============================] - 157s 4s/step - loss: 0.9359 - iou_score: 0.2818 - f1-score: 0.3495 - val_loss: 1.0112 - val_iou_score: 0.0839 - val_f1-score: 0.1221\n",
            "Epoch 8/30\n",
            "37/37 [==============================] - 156s 4s/step - loss: 0.9308 - iou_score: 0.2980 - f1-score: 0.3650 - val_loss: 1.0180 - val_iou_score: 0.0898 - val_f1-score: 0.1293\n",
            "Epoch 9/30\n",
            "37/37 [==============================] - 156s 4s/step - loss: 0.9265 - iou_score: 0.3125 - f1-score: 0.3777 - val_loss: 1.0191 - val_iou_score: 0.0892 - val_f1-score: 0.1288\n",
            "Epoch 10/30\n",
            "37/37 [==============================] - 156s 4s/step - loss: 0.9226 - iou_score: 0.3233 - f1-score: 0.3863 - val_loss: 1.0179 - val_iou_score: 0.0899 - val_f1-score: 0.1299\n",
            "Epoch 11/30\n",
            "37/37 [==============================] - 156s 4s/step - loss: 0.9191 - iou_score: 0.3336 - f1-score: 0.3946 - val_loss: 1.0147 - val_iou_score: 0.0964 - val_f1-score: 0.1398\n",
            "Epoch 12/30\n",
            "37/37 [==============================] - 156s 4s/step - loss: 0.9160 - iou_score: 0.3441 - f1-score: 0.4031 - val_loss: 1.0193 - val_iou_score: 0.0937 - val_f1-score: 0.1353\n",
            "Epoch 13/30\n",
            "37/37 [==============================] - 157s 4s/step - loss: 0.9131 - iou_score: 0.3517 - f1-score: 0.4093 - val_loss: 1.0179 - val_iou_score: 0.0940 - val_f1-score: 0.1370\n",
            "Epoch 14/30\n",
            "37/37 [==============================] - 157s 4s/step - loss: 0.9107 - iou_score: 0.3585 - f1-score: 0.4162 - val_loss: 1.0143 - val_iou_score: 0.0972 - val_f1-score: 0.1418\n",
            "Epoch 15/30\n",
            "37/37 [==============================] - 156s 4s/step - loss: 0.9074 - iou_score: 0.3709 - f1-score: 0.4290 - val_loss: 1.0184 - val_iou_score: 0.0991 - val_f1-score: 0.1442\n",
            "Epoch 16/30\n",
            "37/37 [==============================] - 158s 4s/step - loss: 0.9043 - iou_score: 0.3789 - f1-score: 0.4358 - val_loss: 1.0174 - val_iou_score: 0.0975 - val_f1-score: 0.1431\n",
            "Epoch 17/30\n",
            "37/37 [==============================] - 157s 4s/step - loss: 0.9015 - iou_score: 0.3872 - f1-score: 0.4443 - val_loss: 1.0214 - val_iou_score: 0.0950 - val_f1-score: 0.1386\n",
            "Epoch 18/30\n",
            "37/37 [==============================] - 157s 4s/step - loss: 0.8996 - iou_score: 0.3938 - f1-score: 0.4513 - val_loss: 1.0148 - val_iou_score: 0.1087 - val_f1-score: 0.1580\n",
            "Epoch 19/30\n",
            "37/37 [==============================] - 156s 4s/step - loss: 0.8983 - iou_score: 0.3976 - f1-score: 0.4551 - val_loss: 1.0162 - val_iou_score: 0.1054 - val_f1-score: 0.1537\n",
            "Epoch 20/30\n",
            "37/37 [==============================] - 156s 4s/step - loss: 0.8956 - iou_score: 0.4091 - f1-score: 0.4659 - val_loss: 1.0154 - val_iou_score: 0.1140 - val_f1-score: 0.1658\n",
            "Epoch 21/30\n",
            "37/37 [==============================] - 156s 4s/step - loss: 0.8935 - iou_score: 0.4124 - f1-score: 0.4685 - val_loss: 1.0144 - val_iou_score: 0.1113 - val_f1-score: 0.1620\n",
            "Epoch 22/30\n",
            "37/37 [==============================] - 155s 4s/step - loss: 0.8905 - iou_score: 0.4243 - f1-score: 0.4795 - val_loss: 1.0148 - val_iou_score: 0.1132 - val_f1-score: 0.1647\n",
            "Epoch 23/30\n",
            "37/37 [==============================] - 157s 4s/step - loss: 0.8887 - iou_score: 0.4258 - f1-score: 0.4808 - val_loss: 1.0067 - val_iou_score: 0.1232 - val_f1-score: 0.1773\n",
            "Epoch 24/30\n",
            "37/37 [==============================] - 156s 4s/step - loss: 0.8865 - iou_score: 0.4304 - f1-score: 0.4844 - val_loss: 1.0141 - val_iou_score: 0.1164 - val_f1-score: 0.1694\n",
            "Epoch 25/30\n",
            "37/37 [==============================] - 156s 4s/step - loss: 0.8842 - iou_score: 0.4377 - f1-score: 0.4961 - val_loss: 1.0160 - val_iou_score: 0.1144 - val_f1-score: 0.1667\n",
            "Epoch 26/30\n",
            "37/37 [==============================] - 156s 4s/step - loss: 0.8817 - iou_score: 0.4584 - f1-score: 0.5269 - val_loss: 1.0133 - val_iou_score: 0.1169 - val_f1-score: 0.1696\n",
            "Epoch 27/30\n",
            "37/37 [==============================] - 156s 4s/step - loss: 0.8783 - iou_score: 0.4752 - f1-score: 0.5480 - val_loss: 1.0103 - val_iou_score: 0.1230 - val_f1-score: 0.1793\n",
            "Epoch 28/30\n",
            "37/37 [==============================] - 156s 4s/step - loss: 0.8741 - iou_score: 0.4901 - f1-score: 0.5650 - val_loss: 1.0161 - val_iou_score: 0.1157 - val_f1-score: 0.1702\n",
            "Epoch 29/30\n",
            "37/37 [==============================] - 156s 4s/step - loss: 0.8696 - iou_score: 0.5062 - f1-score: 0.5800 - val_loss: 1.0126 - val_iou_score: 0.1244 - val_f1-score: 0.1809\n",
            "Epoch 30/30\n",
            "37/37 [==============================] - 156s 4s/step - loss: 0.8660 - iou_score: 0.5174 - f1-score: 0.5927 - val_loss: 1.0148 - val_iou_score: 0.1202 - val_f1-score: 0.1756\n"
          ]
        }
      ],
      "source": [
        "BACKBONE1 = 'vgg16'\n",
        "preprocess_input1 = sm.get_preprocessing(BACKBONE1)\n",
        "\n",
        "# preprocess input\n",
        "X_train1 = preprocess_input1(X_train)\n",
        "X_test1 = preprocess_input1(X_test)\n",
        "\n",
        "\n",
        "# define model\n",
        "model1 = sm.Unet(BACKBONE1, encoder_weights='imagenet', classes=n_classes, activation=activation)\n",
        "\n",
        "# compile keras model with defined optimozer, loss and metrics\n",
        "model1.compile(optim, total_loss, metrics)\n",
        "\n",
        "\n",
        "\n",
        "print(model1.summary())\n",
        "\n",
        "history1=model1.fit(X_train1, \n",
        "          y_train_cat,\n",
        "          batch_size=8, \n",
        "          epochs=30,\n",
        "          verbose=1,\n",
        "          validation_data=(X_val, y_val_cat))"
      ]
    },
    {
      "cell_type": "code",
      "execution_count": null,
      "id": "6fcf3b3d",
      "metadata": {
        "id": "6fcf3b3d"
      },
      "outputs": [],
      "source": [
        "model1.save('vgg_backbone_30epochs.hdf5')"
      ]
    },
    {
      "cell_type": "markdown",
      "id": "7706f83d",
      "metadata": {
        "id": "7706f83d"
      },
      "source": [
        "**Plot the training and validation accuracy and loss at each epoch**"
      ]
    },
    {
      "cell_type": "code",
      "execution_count": null,
      "id": "788914cf",
      "metadata": {
        "id": "788914cf",
        "outputId": "3b06a8ab-06c4-4726-ed54-a83aa72d5136"
      },
      "outputs": [
        {
          "data": {
            "image/png": "[encoded data removed]",
            "text/plain": [
              "<Figure size 432x288 with 1 Axes>"
            ]
          },
          "metadata": {
            "needs_background": "light"
          },
          "output_type": "display_data"
        },
        {
          "data": {
            "image/png": "[encoded data removed]",
            "text/plain": [
              "<Figure size 432x288 with 1 Axes>"
            ]
          },
          "metadata": {
            "needs_background": "light"
          },
          "output_type": "display_data"
        }
      ],
      "source": [
        "#plot the training and validation accuracy and loss at each epoch\n",
        "loss = history1.history['loss']\n",
        "val_loss = history1.history['val_loss']\n",
        "epochs = range(1, len(loss) + 1)\n",
        "plt.plot(epochs, loss, 'y', label='Training loss')\n",
        "plt.plot(epochs, val_loss, 'r', label='Validation loss')\n",
        "plt.title('Training and validation loss')\n",
        "plt.xlabel('Epochs')\n",
        "plt.ylabel('Loss')\n",
        "plt.legend()\n",
        "plt.show()\n",
        "\n",
        "acc = history1.history['iou_score']\n",
        "val_acc = history1.history['val_iou_score']\n",
        "\n",
        "plt.plot(epochs, acc, 'y', label='Training IOU')\n",
        "plt.plot(epochs, val_acc, 'r', label='Validation IOU')\n",
        "plt.title('Training and validation IOU')\n",
        "plt.xlabel('Epochs')\n",
        "plt.ylabel('IOU')\n",
        "plt.legend()\n",
        "plt.show()"
      ]
    },
    {
      "cell_type": "markdown",
      "id": "489aef30",
      "metadata": {
        "id": "489aef30"
      },
      "source": [
        "**Load the saved model**"
      ]
    },
    {
      "cell_type": "code",
      "execution_count": null,
      "id": "c49eaf08",
      "metadata": {
        "id": "c49eaf08"
      },
      "outputs": [],
      "source": [
        "from keras.models import load_model\n",
        "#Set compile=False as we are not loading it for training, only for prediction.\n",
        "model1 = load_model('vgg_backbone_30epochs.hdf5', compile=False)"
      ]
    },
    {
      "cell_type": "markdown",
      "id": "55508d1f",
      "metadata": {
        "id": "55508d1f"
      },
      "source": [
        "**MODEL EVALUTION**"
      ]
    },
    {
      "cell_type": "code",
      "execution_count": null,
      "id": "8248ef7a",
      "metadata": {
        "id": "8248ef7a",
        "outputId": "75107e4a-05d0-4fe9-d632-7e2b61459fa2"
      },
      "outputs": [
        {
          "name": "stdout",
          "output_type": "stream",
          "text": [
            "Mean IoU = 0.36774826\n",
            "IoU for class1 is:  0.9501146\n",
            "IoU for class2 is:  0.95179206\n",
            "IoU for class3 is:  0.0020449897\n",
            "IoU for class4 is:  0.98137087\n",
            "IoU for class5 is:  0.75510865\n",
            "IoU for class6 is:  0.9296882\n",
            "IoU for class7 is:  0.1535102\n",
            "IoU for class8 is:  0.8592281\n",
            "IoU for class9 is:  0.57802176\n",
            "IoU for class10 is:  0.015740644\n",
            "IoU for class11 is:  0.0\n",
            "IoU for class12 is:  0.48346627\n"
          ]
        },
        {
          "data": {
            "text/plain": [
              "<matplotlib.image.AxesImage at 0x11adf6e1130>"
            ]
          },
          "execution_count": 79,
          "metadata": {},
          "output_type": "execute_result"
        },
        {
          "data": {
            "image/png": "[encoded data removed]",
            "text/plain": [
              "<Figure size 432x288 with 1 Axes>"
            ]
          },
          "metadata": {
            "needs_background": "light"
          },
          "output_type": "display_data"
        }
      ],
      "source": [
        "#IOU\n",
        "y_pred1=model1.predict(X_test1)\n",
        "y_pred1_argmax=np.argmax(y_pred1, axis=3)\n",
        "\n",
        "\n",
        "#Using built in keras function\n",
        "#from keras.metrics import MeanIoU\n",
        "n_classes = 12\n",
        "IOU_keras = MeanIoU(num_classes=n_classes)  \n",
        "IOU_keras.update_state(y_test[:,:,:,0], y_pred1_argmax)\n",
        "print(\"Mean IoU =\", IOU_keras.result().numpy())\n",
        "#To calculate I0U for each class...\n",
        "values = np.array(IOU_keras.get_weights()).reshape(n_classes, n_classes)\n",
        "#print(values)\n",
        "class1_IoU = values[0,0]/(values[0,0] + values[0,1] + values[0,2] + values[0,3] + values[1,0]+ values[2,0]+ values[3,0])\n",
        "class2_IoU = values[1,1]/(values[1,1] + values[1,0] + values[1,2] + values[1,3] + values[0,1]+ values[2,1]+ values[3,1])\n",
        "class3_IoU = values[2,2]/(values[2,2] + values[2,0] + values[2,1] + values[2,3] + values[0,2]+ values[1,2]+ values[3,2])\n",
        "class4_IoU = values[3,3]/(values[3,3] + values[3,0] + values[3,1] + values[3,2] + values[0,3]+ values[1,3]+ values[2,3])\n",
        "class5_IoU = values[4,4]/(values[4,4] + values[4,0] + values[4,1] + values[4,2] + values[4,3]+ values[4,3]+ values[4,3])\n",
        "class6_IoU = values[5,5]/(values[5,5] + values[5,0] + values[5,1] + values[5,2] + values[5,3]+ values[5,3]+ values[5,3])\n",
        "class7_IoU = values[6,6]/(values[6,6] + values[6,0] + values[6,1] + values[6,2] + values[6,3]+ values[6,3]+ values[6,3])\n",
        "class8_IoU = values[7,7]/(values[7,7] + values[7,0] + values[7,1] + values[7,2] + values[7,3]+ values[7,3]+ values[7,3])\n",
        "class9_IoU = values[8,8]/(values[8,8] + values[8,0] + values[8,1] + values[8,2] + values[8,3]+ values[8,3]+ values[8,3])\n",
        "class10_IoU = values[9,9]/(values[9,9] + values[9,0] + values[9,1] + values[9,2] + values[9,3]+ values[9,3]+ values[9,3])\n",
        "class11_IoU = values[10,10]/(values[10,10] + values[10,0] + values[10,1] + values[10,2] + values[10,3]+ values[10,3]+ values[10,3])\n",
        "class12_IoU = values[11,11]/(values[11,11] + values[11,0] + values[11,1] + values[11,2] + values[11,3]+ values[11,3]+ values[11,3])\n",
        "\n",
        "print(\"IoU for class1 is: \", class1_IoU)\n",
        "print(\"IoU for class2 is: \", class2_IoU)\n",
        "print(\"IoU for class3 is: \", class3_IoU)\n",
        "print(\"IoU for class4 is: \", class4_IoU)\n",
        "print(\"IoU for class5 is: \", class5_IoU)\n",
        "print(\"IoU for class6 is: \", class6_IoU)\n",
        "print(\"IoU for class7 is: \", class7_IoU)\n",
        "print(\"IoU for class8 is: \", class8_IoU)\n",
        "print(\"IoU for class9 is: \", class9_IoU)\n",
        "print(\"IoU for class10 is: \", class10_IoU)\n",
        "print(\"IoU for class11 is: \", class11_IoU)\n",
        "print(\"IoU for class12 is: \", class12_IoU)\n",
        "\n",
        "#Vaerify the prediction on first image\n",
        "plt.imshow(train_images[0, :,:,0], cmap='jet')\n",
        "plt.imshow(train_masks[0], cmap='jet')"
      ]
    },
    {
      "cell_type": "markdown",
      "id": "e550815f",
      "metadata": {
        "id": "e550815f"
      },
      "source": [
        "**TEST Model on some random images** "
      ]
    },
    {
      "cell_type": "code",
      "execution_count": null,
      "id": "09fed7cd",
      "metadata": {
        "scrolled": true,
        "id": "09fed7cd",
        "outputId": "73b64f01-7697-4686-9054-8535f912bcf7"
      },
      "outputs": [
        {
          "data": {
            "image/png": "[encoded data removed]",
            "text/plain": [
              "<Figure size 864x576 with 3 Axes>"
            ]
          },
          "metadata": {
            "needs_background": "light"
          },
          "output_type": "display_data"
        }
      ],
      "source": [
        "import random\n",
        "test_img_number = random.randint(0, len(X_test1))\n",
        "test_img = X_test1[test_img_number]\n",
        "ground_truth=y_test[test_img_number]\n",
        "test_img_input=np.expand_dims(test_img, 0)\n",
        "\n",
        "test_img_input1 = preprocess_input1(test_img_input)\n",
        "\n",
        "test_pred1 = model1.predict(test_img_input1)\n",
        "test_prediction1 = np.argmax(test_pred1, axis=3)[0,:,:]\n",
        "\n",
        "\n",
        "plt.figure(figsize=(12, 8))\n",
        "plt.subplot(231)\n",
        "plt.title('Testing Image')\n",
        "plt.imshow(test_img[:,:,0], cmap='jet')\n",
        "plt.subplot(232)\n",
        "plt.title('Testing Label')\n",
        "plt.imshow(ground_truth[:,:,0], cmap='jet')\n",
        "plt.subplot(233)\n",
        "plt.title('Prediction on test image')\n",
        "plt.imshow(test_prediction1, cmap='jet')\n",
        "plt.show()"
      ]
    },
    {
      "cell_type": "markdown",
      "id": "f0c58a19",
      "metadata": {
        "id": "f0c58a19"
      },
      "source": [
        "**USING RESNET AS THE BACKBONE**"
      ]
    },
    {
      "cell_type": "code",
      "execution_count": null,
      "id": "3a5c8df4",
      "metadata": {
        "id": "3a5c8df4",
        "outputId": "5f9b3f73-f7ee-4c78-9457-34a2411ec099"
      },
      "outputs": [
        {
          "name": "stdout",
          "output_type": "stream",
          "text": [
            "Model: \"model_2\"\n",
            "__________________________________________________________________________________________________\n",
            " Layer (type)                   Output Shape         Param #     Connected to                     \n",
            "==================================================================================================\n",
            " data (InputLayer)              [(None, None, None,  0           []                               \n",
            "                                 3)]                                                              \n",
            "                                                                                                  \n",
            " bn_data (BatchNormalization)   (None, None, None,   9           ['data[0][0]']                   \n",
            "                                3)                                                                \n",
            "                                                                                                  \n",
            " zero_padding2d (ZeroPadding2D)  (None, None, None,   0          ['bn_data[0][0]']                \n",
            "                                3)                                                                \n",
            "                                                                                                  \n",
            " conv0 (Conv2D)                 (None, None, None,   9408        ['zero_padding2d[0][0]']         \n",
            "                                64)                                                               \n",
            "                                                                                                  \n",
            " bn0 (BatchNormalization)       (None, None, None,   256         ['conv0[0][0]']                  \n",
            "                                64)                                                               \n",
            "                                                                                                  \n",
            " relu0 (Activation)             (None, None, None,   0           ['bn0[0][0]']                    \n",
            "                                64)                                                               \n",
            "                                                                                                  \n",
            " zero_padding2d_1 (ZeroPadding2  (None, None, None,   0          ['relu0[0][0]']                  \n",
            " D)                             64)                                                               \n",
            "                                                                                                  \n",
            " pooling0 (MaxPooling2D)        (None, None, None,   0           ['zero_padding2d_1[0][0]']       \n",
            "                                64)                                                               \n",
            "                                                                                                  \n",
            " stage1_unit1_bn1 (BatchNormali  (None, None, None,   256        ['pooling0[0][0]']               \n",
            " zation)                        64)                                                               \n",
            "                                                                                                  \n",
            " stage1_unit1_relu1 (Activation  (None, None, None,   0          ['stage1_unit1_bn1[0][0]']       \n",
            " )                              64)                                                               \n",
            "                                                                                                  \n",
            " zero_padding2d_2 (ZeroPadding2  (None, None, None,   0          ['stage1_unit1_relu1[0][0]']     \n",
            " D)                             64)                                                               \n",
            "                                                                                                  \n",
            " stage1_unit1_conv1 (Conv2D)    (None, None, None,   36864       ['zero_padding2d_2[0][0]']       \n",
            "                                64)                                                               \n",
            "                                                                                                  \n",
            " stage1_unit1_bn2 (BatchNormali  (None, None, None,   256        ['stage1_unit1_conv1[0][0]']     \n",
            " zation)                        64)                                                               \n",
            "                                                                                                  \n",
            " stage1_unit1_relu2 (Activation  (None, None, None,   0          ['stage1_unit1_bn2[0][0]']       \n",
            " )                              64)                                                               \n",
            "                                                                                                  \n",
            " zero_padding2d_3 (ZeroPadding2  (None, None, None,   0          ['stage1_unit1_relu2[0][0]']     \n",
            " D)                             64)                                                               \n",
            "                                                                                                  \n",
            " stage1_unit1_conv2 (Conv2D)    (None, None, None,   36864       ['zero_padding2d_3[0][0]']       \n",
            "                                64)                                                               \n",
            "                                                                                                  \n",
            " stage1_unit1_sc (Conv2D)       (None, None, None,   4096        ['stage1_unit1_relu1[0][0]']     \n",
            "                                64)                                                               \n",
            "                                                                                                  \n",
            " add (Add)                      (None, None, None,   0           ['stage1_unit1_conv2[0][0]',     \n",
            "                                64)                               'stage1_unit1_sc[0][0]']        \n",
            "                                                                                                  \n",
            " stage1_unit2_bn1 (BatchNormali  (None, None, None,   256        ['add[0][0]']                    \n",
            " zation)                        64)                                                               \n",
            "                                                                                                  \n",
            " stage1_unit2_relu1 (Activation  (None, None, None,   0          ['stage1_unit2_bn1[0][0]']       \n",
            " )                              64)                                                               \n",
            "                                                                                                  \n",
            " zero_padding2d_4 (ZeroPadding2  (None, None, None,   0          ['stage1_unit2_relu1[0][0]']     \n",
            " D)                             64)                                                               \n",
            "                                                                                                  \n",
            " stage1_unit2_conv1 (Conv2D)    (None, None, None,   36864       ['zero_padding2d_4[0][0]']       \n",
            "                                64)                                                               \n",
            "                                                                                                  \n",
            " stage1_unit2_bn2 (BatchNormali  (None, None, None,   256        ['stage1_unit2_conv1[0][0]']     \n",
            " zation)                        64)                                                               \n",
            "                                                                                                  \n",
            " stage1_unit2_relu2 (Activation  (None, None, None,   0          ['stage1_unit2_bn2[0][0]']       \n",
            " )                              64)                                                               \n",
            "                                                                                                  \n",
            " zero_padding2d_5 (ZeroPadding2  (None, None, None,   0          ['stage1_unit2_relu2[0][0]']     \n",
            " D)                             64)                                                               \n",
            "                                                                                                  \n",
            " stage1_unit2_conv2 (Conv2D)    (None, None, None,   36864       ['zero_padding2d_5[0][0]']       \n",
            "                                64)                                                               \n",
            "                                                                                                  \n",
            " add_1 (Add)                    (None, None, None,   0           ['stage1_unit2_conv2[0][0]',     \n",
            "                                64)                               'add[0][0]']                    \n",
            "                                                                                                  \n",
            " stage1_unit3_bn1 (BatchNormali  (None, None, None,   256        ['add_1[0][0]']                  \n",
            " zation)                        64)                                                               \n",
            "                                                                                                  \n",
            " stage1_unit3_relu1 (Activation  (None, None, None,   0          ['stage1_unit3_bn1[0][0]']       \n",
            " )                              64)                                                               \n",
            "                                                                                                  \n",
            " zero_padding2d_6 (ZeroPadding2  (None, None, None,   0          ['stage1_unit3_relu1[0][0]']     \n",
            " D)                             64)                                                               \n",
            "                                                                                                  \n",
            " stage1_unit3_conv1 (Conv2D)    (None, None, None,   36864       ['zero_padding2d_6[0][0]']       \n",
            "                                64)                                                               \n",
            "                                                                                                  \n",
            " stage1_unit3_bn2 (BatchNormali  (None, None, None,   256        ['stage1_unit3_conv1[0][0]']     \n",
            " zation)                        64)                                                               \n",
            "                                                                                                  \n",
            " stage1_unit3_relu2 (Activation  (None, None, None,   0          ['stage1_unit3_bn2[0][0]']       \n",
            " )                              64)                                                               \n",
            "                                                                                                  \n",
            " zero_padding2d_7 (ZeroPadding2  (None, None, None,   0          ['stage1_unit3_relu2[0][0]']     \n",
            " D)                             64)                                                               \n",
            "                                                                                                  \n",
            " stage1_unit3_conv2 (Conv2D)    (None, None, None,   36864       ['zero_padding2d_7[0][0]']       \n",
            "                                64)                                                               \n",
            "                                                                                                  \n",
            " add_2 (Add)                    (None, None, None,   0           ['stage1_unit3_conv2[0][0]',     \n",
            "                                64)                               'add_1[0][0]']                  \n",
            "                                                                                                  \n",
            " stage2_unit1_bn1 (BatchNormali  (None, None, None,   256        ['add_2[0][0]']                  \n",
            " zation)                        64)                                                               \n",
            "                                                                                                  \n",
            " stage2_unit1_relu1 (Activation  (None, None, None,   0          ['stage2_unit1_bn1[0][0]']       \n",
            " )                              64)                                                               \n",
            "                                                                                                  \n",
            " zero_padding2d_8 (ZeroPadding2  (None, None, None,   0          ['stage2_unit1_relu1[0][0]']     \n",
            " D)                             64)                                                               \n",
            "                                                                                                  \n",
            " stage2_unit1_conv1 (Conv2D)    (None, None, None,   73728       ['zero_padding2d_8[0][0]']       \n",
            "                                128)                                                              \n",
            "                                                                                                  \n",
            " stage2_unit1_bn2 (BatchNormali  (None, None, None,   512        ['stage2_unit1_conv1[0][0]']     \n",
            " zation)                        128)                                                              \n",
            "                                                                                                  \n",
            " stage2_unit1_relu2 (Activation  (None, None, None,   0          ['stage2_unit1_bn2[0][0]']       \n",
            " )                              128)                                                              \n",
            "                                                                                                  \n",
            " zero_padding2d_9 (ZeroPadding2  (None, None, None,   0          ['stage2_unit1_relu2[0][0]']     \n",
            " D)                             128)                                                              \n",
            "                                                                                                  \n",
            " stage2_unit1_conv2 (Conv2D)    (None, None, None,   147456      ['zero_padding2d_9[0][0]']       \n",
            "                                128)                                                              \n",
            "                                                                                                  \n",
            " stage2_unit1_sc (Conv2D)       (None, None, None,   8192        ['stage2_unit1_relu1[0][0]']     \n",
            "                                128)                                                              \n",
            "                                                                                                  \n",
            " add_3 (Add)                    (None, None, None,   0           ['stage2_unit1_conv2[0][0]',     \n",
            "                                128)                              'stage2_unit1_sc[0][0]']        \n",
            "                                                                                                  \n",
            " stage2_unit2_bn1 (BatchNormali  (None, None, None,   512        ['add_3[0][0]']                  \n",
            " zation)                        128)                                                              \n",
            "                                                                                                  \n",
            " stage2_unit2_relu1 (Activation  (None, None, None,   0          ['stage2_unit2_bn1[0][0]']       \n",
            " )                              128)                                                              \n",
            "                                                                                                  \n",
            " zero_padding2d_10 (ZeroPadding  (None, None, None,   0          ['stage2_unit2_relu1[0][0]']     \n",
            " 2D)                            128)                                                              \n",
            "                                                                                                  \n",
            " stage2_unit2_conv1 (Conv2D)    (None, None, None,   147456      ['zero_padding2d_10[0][0]']      \n",
            "                                128)                                                              \n",
            "                                                                                                  \n",
            " stage2_unit2_bn2 (BatchNormali  (None, None, None,   512        ['stage2_unit2_conv1[0][0]']     \n",
            " zation)                        128)                                                              \n",
            "                                                                                                  \n",
            " stage2_unit2_relu2 (Activation  (None, None, None,   0          ['stage2_unit2_bn2[0][0]']       \n",
            " )                              128)                                                              \n",
            "                                                                                                  \n",
            " zero_padding2d_11 (ZeroPadding  (None, None, None,   0          ['stage2_unit2_relu2[0][0]']     \n",
            " 2D)                            128)                                                              \n",
            "                                                                                                  \n",
            " stage2_unit2_conv2 (Conv2D)    (None, None, None,   147456      ['zero_padding2d_11[0][0]']      \n",
            "                                128)                                                              \n",
            "                                                                                                  \n",
            " add_4 (Add)                    (None, None, None,   0           ['stage2_unit2_conv2[0][0]',     \n",
            "                                128)                              'add_3[0][0]']                  \n",
            "                                                                                                  \n",
            " stage2_unit3_bn1 (BatchNormali  (None, None, None,   512        ['add_4[0][0]']                  \n",
            " zation)                        128)                                                              \n",
            "                                                                                                  \n",
            " stage2_unit3_relu1 (Activation  (None, None, None,   0          ['stage2_unit3_bn1[0][0]']       \n",
            " )                              128)                                                              \n",
            "                                                                                                  \n",
            " zero_padding2d_12 (ZeroPadding  (None, None, None,   0          ['stage2_unit3_relu1[0][0]']     \n",
            " 2D)                            128)                                                              \n",
            "                                                                                                  \n",
            " stage2_unit3_conv1 (Conv2D)    (None, None, None,   147456      ['zero_padding2d_12[0][0]']      \n",
            "                                128)                                                              \n",
            "                                                                                                  \n",
            " stage2_unit3_bn2 (BatchNormali  (None, None, None,   512        ['stage2_unit3_conv1[0][0]']     \n",
            " zation)                        128)                                                              \n",
            "                                                                                                  \n",
            " stage2_unit3_relu2 (Activation  (None, None, None,   0          ['stage2_unit3_bn2[0][0]']       \n",
            " )                              128)                                                              \n",
            "                                                                                                  \n",
            " zero_padding2d_13 (ZeroPadding  (None, None, None,   0          ['stage2_unit3_relu2[0][0]']     \n",
            " 2D)                            128)                                                              \n",
            "                                                                                                  \n",
            " stage2_unit3_conv2 (Conv2D)    (None, None, None,   147456      ['zero_padding2d_13[0][0]']      \n",
            "                                128)                                                              \n",
            "                                                                                                  \n",
            " add_5 (Add)                    (None, None, None,   0           ['stage2_unit3_conv2[0][0]',     \n",
            "                                128)                              'add_4[0][0]']                  \n",
            "                                                                                                  \n",
            " stage2_unit4_bn1 (BatchNormali  (None, None, None,   512        ['add_5[0][0]']                  \n",
            " zation)                        128)                                                              \n",
            "                                                                                                  \n",
            " stage2_unit4_relu1 (Activation  (None, None, None,   0          ['stage2_unit4_bn1[0][0]']       \n",
            " )                              128)                                                              \n",
            "                                                                                                  \n",
            " zero_padding2d_14 (ZeroPadding  (None, None, None,   0          ['stage2_unit4_relu1[0][0]']     \n",
            " 2D)                            128)                                                              \n",
            "                                                                                                  \n",
            " stage2_unit4_conv1 (Conv2D)    (None, None, None,   147456      ['zero_padding2d_14[0][0]']      \n",
            "                                128)                                                              \n",
            "                                                                                                  \n",
            " stage2_unit4_bn2 (BatchNormali  (None, None, None,   512        ['stage2_unit4_conv1[0][0]']     \n",
            " zation)                        128)                                                              \n",
            "                                                                                                  \n",
            " stage2_unit4_relu2 (Activation  (None, None, None,   0          ['stage2_unit4_bn2[0][0]']       \n",
            " )                              128)                                                              \n",
            "                                                                                                  \n",
            " zero_padding2d_15 (ZeroPadding  (None, None, None,   0          ['stage2_unit4_relu2[0][0]']     \n",
            " 2D)                            128)                                                              \n",
            "                                                                                                  \n",
            " stage2_unit4_conv2 (Conv2D)    (None, None, None,   147456      ['zero_padding2d_15[0][0]']      \n",
            "                                128)                                                              \n",
            "                                                                                                  \n",
            " add_6 (Add)                    (None, None, None,   0           ['stage2_unit4_conv2[0][0]',     \n",
            "                                128)                              'add_5[0][0]']                  \n",
            "                                                                                                  \n",
            " stage3_unit1_bn1 (BatchNormali  (None, None, None,   512        ['add_6[0][0]']                  \n",
            " zation)                        128)                                                              \n",
            "                                                                                                  \n",
            " stage3_unit1_relu1 (Activation  (None, None, None,   0          ['stage3_unit1_bn1[0][0]']       \n",
            " )                              128)                                                              \n",
            "                                                                                                  \n",
            " zero_padding2d_16 (ZeroPadding  (None, None, None,   0          ['stage3_unit1_relu1[0][0]']     \n",
            " 2D)                            128)                                                              \n",
            "                                                                                                  \n",
            " stage3_unit1_conv1 (Conv2D)    (None, None, None,   294912      ['zero_padding2d_16[0][0]']      \n",
            "                                256)                                                              \n",
            "                                                                                                  \n",
            " stage3_unit1_bn2 (BatchNormali  (None, None, None,   1024       ['stage3_unit1_conv1[0][0]']     \n",
            " zation)                        256)                                                              \n",
            "                                                                                                  \n",
            " stage3_unit1_relu2 (Activation  (None, None, None,   0          ['stage3_unit1_bn2[0][0]']       \n",
            " )                              256)                                                              \n",
            "                                                                                                  \n",
            " zero_padding2d_17 (ZeroPadding  (None, None, None,   0          ['stage3_unit1_relu2[0][0]']     \n",
            " 2D)                            256)                                                              \n",
            "                                                                                                  \n",
            " stage3_unit1_conv2 (Conv2D)    (None, None, None,   589824      ['zero_padding2d_17[0][0]']      \n",
            "                                256)                                                              \n",
            "                                                                                                  \n",
            " stage3_unit1_sc (Conv2D)       (None, None, None,   32768       ['stage3_unit1_relu1[0][0]']     \n",
            "                                256)                                                              \n",
            "                                                                                                  \n",
            " add_7 (Add)                    (None, None, None,   0           ['stage3_unit1_conv2[0][0]',     \n",
            "                                256)                              'stage3_unit1_sc[0][0]']        \n",
            "                                                                                                  \n",
            " stage3_unit2_bn1 (BatchNormali  (None, None, None,   1024       ['add_7[0][0]']                  \n",
            " zation)                        256)                                                              \n",
            "                                                                                                  \n",
            " stage3_unit2_relu1 (Activation  (None, None, None,   0          ['stage3_unit2_bn1[0][0]']       \n",
            " )                              256)                                                              \n",
            "                                                                                                  \n",
            " zero_padding2d_18 (ZeroPadding  (None, None, None,   0          ['stage3_unit2_relu1[0][0]']     \n",
            " 2D)                            256)                                                              \n",
            "                                                                                                  \n",
            " stage3_unit2_conv1 (Conv2D)    (None, None, None,   589824      ['zero_padding2d_18[0][0]']      \n",
            "                                256)                                                              \n",
            "                                                                                                  \n",
            " stage3_unit2_bn2 (BatchNormali  (None, None, None,   1024       ['stage3_unit2_conv1[0][0]']     \n",
            " zation)                        256)                                                              \n",
            "                                                                                                  \n",
            " stage3_unit2_relu2 (Activation  (None, None, None,   0          ['stage3_unit2_bn2[0][0]']       \n",
            " )                              256)                                                              \n",
            "                                                                                                  \n",
            " zero_padding2d_19 (ZeroPadding  (None, None, None,   0          ['stage3_unit2_relu2[0][0]']     \n",
            " 2D)                            256)                                                              \n",
            "                                                                                                  \n",
            " stage3_unit2_conv2 (Conv2D)    (None, None, None,   589824      ['zero_padding2d_19[0][0]']      \n",
            "                                256)                                                              \n",
            "                                                                                                  \n",
            " add_8 (Add)                    (None, None, None,   0           ['stage3_unit2_conv2[0][0]',     \n",
            "                                256)                              'add_7[0][0]']                  \n",
            "                                                                                                  \n",
            " stage3_unit3_bn1 (BatchNormali  (None, None, None,   1024       ['add_8[0][0]']                  \n",
            " zation)                        256)                                                              \n",
            "                                                                                                  \n",
            " stage3_unit3_relu1 (Activation  (None, None, None,   0          ['stage3_unit3_bn1[0][0]']       \n",
            " )                              256)                                                              \n",
            "                                                                                                  \n",
            " zero_padding2d_20 (ZeroPadding  (None, None, None,   0          ['stage3_unit3_relu1[0][0]']     \n",
            " 2D)                            256)                                                              \n",
            "                                                                                                  \n",
            " stage3_unit3_conv1 (Conv2D)    (None, None, None,   589824      ['zero_padding2d_20[0][0]']      \n",
            "                                256)                                                              \n",
            "                                                                                                  \n",
            " stage3_unit3_bn2 (BatchNormali  (None, None, None,   1024       ['stage3_unit3_conv1[0][0]']     \n",
            " zation)                        256)                                                              \n",
            "                                                                                                  \n",
            " stage3_unit3_relu2 (Activation  (None, None, None,   0          ['stage3_unit3_bn2[0][0]']       \n",
            " )                              256)                                                              \n",
            "                                                                                                  \n",
            " zero_padding2d_21 (ZeroPadding  (None, None, None,   0          ['stage3_unit3_relu2[0][0]']     \n",
            " 2D)                            256)                                                              \n",
            "                                                                                                  \n",
            " stage3_unit3_conv2 (Conv2D)    (None, None, None,   589824      ['zero_padding2d_21[0][0]']      \n",
            "                                256)                                                              \n",
            "                                                                                                  \n",
            " add_9 (Add)                    (None, None, None,   0           ['stage3_unit3_conv2[0][0]',     \n",
            "                                256)                              'add_8[0][0]']                  \n",
            "                                                                                                  \n",
            " stage3_unit4_bn1 (BatchNormali  (None, None, None,   1024       ['add_9[0][0]']                  \n",
            " zation)                        256)                                                              \n",
            "                                                                                                  \n",
            " stage3_unit4_relu1 (Activation  (None, None, None,   0          ['stage3_unit4_bn1[0][0]']       \n",
            " )                              256)                                                              \n",
            "                                                                                                  \n",
            " zero_padding2d_22 (ZeroPadding  (None, None, None,   0          ['stage3_unit4_relu1[0][0]']     \n",
            " 2D)                            256)                                                              \n",
            "                                                                                                  \n",
            " stage3_unit4_conv1 (Conv2D)    (None, None, None,   589824      ['zero_padding2d_22[0][0]']      \n",
            "                                256)                                                              \n",
            "                                                                                                  \n",
            " stage3_unit4_bn2 (BatchNormali  (None, None, None,   1024       ['stage3_unit4_conv1[0][0]']     \n",
            " zation)                        256)                                                              \n",
            "                                                                                                  \n",
            " stage3_unit4_relu2 (Activation  (None, None, None,   0          ['stage3_unit4_bn2[0][0]']       \n",
            " )                              256)                                                              \n",
            "                                                                                                  \n",
            " zero_padding2d_23 (ZeroPadding  (None, None, None,   0          ['stage3_unit4_relu2[0][0]']     \n",
            " 2D)                            256)                                                              \n",
            "                                                                                                  \n",
            " stage3_unit4_conv2 (Conv2D)    (None, None, None,   589824      ['zero_padding2d_23[0][0]']      \n",
            "                                256)                                                              \n",
            "                                                                                                  \n",
            " add_10 (Add)                   (None, None, None,   0           ['stage3_unit4_conv2[0][0]',     \n",
            "                                256)                              'add_9[0][0]']                  \n",
            "                                                                                                  \n",
            " stage3_unit5_bn1 (BatchNormali  (None, None, None,   1024       ['add_10[0][0]']                 \n",
            " zation)                        256)                                                              \n",
            "                                                                                                  \n",
            " stage3_unit5_relu1 (Activation  (None, None, None,   0          ['stage3_unit5_bn1[0][0]']       \n",
            " )                              256)                                                              \n",
            "                                                                                                  \n",
            " zero_padding2d_24 (ZeroPadding  (None, None, None,   0          ['stage3_unit5_relu1[0][0]']     \n",
            " 2D)                            256)                                                              \n",
            "                                                                                                  \n",
            " stage3_unit5_conv1 (Conv2D)    (None, None, None,   589824      ['zero_padding2d_24[0][0]']      \n",
            "                                256)                                                              \n",
            "                                                                                                  \n",
            " stage3_unit5_bn2 (BatchNormali  (None, None, None,   1024       ['stage3_unit5_conv1[0][0]']     \n",
            " zation)                        256)                                                              \n",
            "                                                                                                  \n",
            " stage3_unit5_relu2 (Activation  (None, None, None,   0          ['stage3_unit5_bn2[0][0]']       \n",
            " )                              256)                                                              \n",
            "                                                                                                  \n",
            " zero_padding2d_25 (ZeroPadding  (None, None, None,   0          ['stage3_unit5_relu2[0][0]']     \n",
            " 2D)                            256)                                                              \n",
            "                                                                                                  \n",
            " stage3_unit5_conv2 (Conv2D)    (None, None, None,   589824      ['zero_padding2d_25[0][0]']      \n",
            "                                256)                                                              \n",
            "                                                                                                  \n",
            " add_11 (Add)                   (None, None, None,   0           ['stage3_unit5_conv2[0][0]',     \n",
            "                                256)                              'add_10[0][0]']                 \n",
            "                                                                                                  \n",
            " stage3_unit6_bn1 (BatchNormali  (None, None, None,   1024       ['add_11[0][0]']                 \n",
            " zation)                        256)                                                              \n",
            "                                                                                                  \n",
            " stage3_unit6_relu1 (Activation  (None, None, None,   0          ['stage3_unit6_bn1[0][0]']       \n",
            " )                              256)                                                              \n",
            "                                                                                                  \n",
            " zero_padding2d_26 (ZeroPadding  (None, None, None,   0          ['stage3_unit6_relu1[0][0]']     \n",
            " 2D)                            256)                                                              \n",
            "                                                                                                  \n",
            " stage3_unit6_conv1 (Conv2D)    (None, None, None,   589824      ['zero_padding2d_26[0][0]']      \n",
            "                                256)                                                              \n",
            "                                                                                                  \n",
            " stage3_unit6_bn2 (BatchNormali  (None, None, None,   1024       ['stage3_unit6_conv1[0][0]']     \n",
            " zation)                        256)                                                              \n",
            "                                                                                                  \n",
            " stage3_unit6_relu2 (Activation  (None, None, None,   0          ['stage3_unit6_bn2[0][0]']       \n",
            " )                              256)                                                              \n",
            "                                                                                                  \n",
            " zero_padding2d_27 (ZeroPadding  (None, None, None,   0          ['stage3_unit6_relu2[0][0]']     \n",
            " 2D)                            256)                                                              \n",
            "                                                                                                  \n",
            " stage3_unit6_conv2 (Conv2D)    (None, None, None,   589824      ['zero_padding2d_27[0][0]']      \n",
            "                                256)                                                              \n",
            "                                                                                                  \n",
            " add_12 (Add)                   (None, None, None,   0           ['stage3_unit6_conv2[0][0]',     \n",
            "                                256)                              'add_11[0][0]']                 \n",
            "                                                                                                  \n",
            " stage4_unit1_bn1 (BatchNormali  (None, None, None,   1024       ['add_12[0][0]']                 \n",
            " zation)                        256)                                                              \n",
            "                                                                                                  \n",
            " stage4_unit1_relu1 (Activation  (None, None, None,   0          ['stage4_unit1_bn1[0][0]']       \n",
            " )                              256)                                                              \n",
            "                                                                                                  \n",
            " zero_padding2d_28 (ZeroPadding  (None, None, None,   0          ['stage4_unit1_relu1[0][0]']     \n",
            " 2D)                            256)                                                              \n",
            "                                                                                                  \n",
            " stage4_unit1_conv1 (Conv2D)    (None, None, None,   1179648     ['zero_padding2d_28[0][0]']      \n",
            "                                512)                                                              \n",
            "                                                                                                  \n",
            " stage4_unit1_bn2 (BatchNormali  (None, None, None,   2048       ['stage4_unit1_conv1[0][0]']     \n",
            " zation)                        512)                                                              \n",
            "                                                                                                  \n",
            " stage4_unit1_relu2 (Activation  (None, None, None,   0          ['stage4_unit1_bn2[0][0]']       \n",
            " )                              512)                                                              \n",
            "                                                                                                  \n",
            " zero_padding2d_29 (ZeroPadding  (None, None, None,   0          ['stage4_unit1_relu2[0][0]']     \n",
            " 2D)                            512)                                                              \n",
            "                                                                                                  \n",
            " stage4_unit1_conv2 (Conv2D)    (None, None, None,   2359296     ['zero_padding2d_29[0][0]']      \n",
            "                                512)                                                              \n",
            "                                                                                                  \n",
            " stage4_unit1_sc (Conv2D)       (None, None, None,   131072      ['stage4_unit1_relu1[0][0]']     \n",
            "                                512)                                                              \n",
            "                                                                                                  \n",
            " add_13 (Add)                   (None, None, None,   0           ['stage4_unit1_conv2[0][0]',     \n",
            "                                512)                              'stage4_unit1_sc[0][0]']        \n",
            "                                                                                                  \n",
            " stage4_unit2_bn1 (BatchNormali  (None, None, None,   2048       ['add_13[0][0]']                 \n",
            " zation)                        512)                                                              \n",
            "                                                                                                  \n",
            " stage4_unit2_relu1 (Activation  (None, None, None,   0          ['stage4_unit2_bn1[0][0]']       \n",
            " )                              512)                                                              \n",
            "                                                                                                  \n",
            " zero_padding2d_30 (ZeroPadding  (None, None, None,   0          ['stage4_unit2_relu1[0][0]']     \n",
            " 2D)                            512)                                                              \n",
            "                                                                                                  \n",
            " stage4_unit2_conv1 (Conv2D)    (None, None, None,   2359296     ['zero_padding2d_30[0][0]']      \n",
            "                                512)                                                              \n",
            "                                                                                                  \n",
            " stage4_unit2_bn2 (BatchNormali  (None, None, None,   2048       ['stage4_unit2_conv1[0][0]']     \n",
            " zation)                        512)                                                              \n",
            "                                                                                                  \n",
            " stage4_unit2_relu2 (Activation  (None, None, None,   0          ['stage4_unit2_bn2[0][0]']       \n",
            " )                              512)                                                              \n",
            "                                                                                                  \n",
            " zero_padding2d_31 (ZeroPadding  (None, None, None,   0          ['stage4_unit2_relu2[0][0]']     \n",
            " 2D)                            512)                                                              \n",
            "                                                                                                  \n",
            " stage4_unit2_conv2 (Conv2D)    (None, None, None,   2359296     ['zero_padding2d_31[0][0]']      \n",
            "                                512)                                                              \n",
            "                                                                                                  \n",
            " add_14 (Add)                   (None, None, None,   0           ['stage4_unit2_conv2[0][0]',     \n",
            "                                512)                              'add_13[0][0]']                 \n",
            "                                                                                                  \n",
            " stage4_unit3_bn1 (BatchNormali  (None, None, None,   2048       ['add_14[0][0]']                 \n",
            " zation)                        512)                                                              \n",
            "                                                                                                  \n",
            " stage4_unit3_relu1 (Activation  (None, None, None,   0          ['stage4_unit3_bn1[0][0]']       \n",
            " )                              512)                                                              \n",
            "                                                                                                  \n",
            " zero_padding2d_32 (ZeroPadding  (None, None, None,   0          ['stage4_unit3_relu1[0][0]']     \n",
            " 2D)                            512)                                                              \n",
            "                                                                                                  \n",
            " stage4_unit3_conv1 (Conv2D)    (None, None, None,   2359296     ['zero_padding2d_32[0][0]']      \n",
            "                                512)                                                              \n",
            "                                                                                                  \n",
            " stage4_unit3_bn2 (BatchNormali  (None, None, None,   2048       ['stage4_unit3_conv1[0][0]']     \n",
            " zation)                        512)                                                              \n",
            "                                                                                                  \n",
            " stage4_unit3_relu2 (Activation  (None, None, None,   0          ['stage4_unit3_bn2[0][0]']       \n",
            " )                              512)                                                              \n",
            "                                                                                                  \n",
            " zero_padding2d_33 (ZeroPadding  (None, None, None,   0          ['stage4_unit3_relu2[0][0]']     \n",
            " 2D)                            512)                                                              \n",
            "                                                                                                  \n",
            " stage4_unit3_conv2 (Conv2D)    (None, None, None,   2359296     ['zero_padding2d_33[0][0]']      \n",
            "                                512)                                                              \n",
            "                                                                                                  \n",
            " add_15 (Add)                   (None, None, None,   0           ['stage4_unit3_conv2[0][0]',     \n",
            "                                512)                              'add_14[0][0]']                 \n",
            "                                                                                                  \n",
            " bn1 (BatchNormalization)       (None, None, None,   2048        ['add_15[0][0]']                 \n",
            "                                512)                                                              \n",
            "                                                                                                  \n",
            " relu1 (Activation)             (None, None, None,   0           ['bn1[0][0]']                    \n",
            "                                512)                                                              \n",
            "                                                                                                  \n",
            " decoder_stage0_upsampling (UpS  (None, None, None,   0          ['relu1[0][0]']                  \n",
            " ampling2D)                     512)                                                              \n",
            "                                                                                                  \n",
            " decoder_stage0_concat (Concate  (None, None, None,   0          ['decoder_stage0_upsampling[0][0]\n",
            " nate)                          768)                             ',                               \n",
            "                                                                  'stage4_unit1_relu1[0][0]']     \n",
            "                                                                                                  \n",
            " decoder_stage0a_conv (Conv2D)  (None, None, None,   1769472     ['decoder_stage0_concat[0][0]']  \n",
            "                                256)                                                              \n",
            "                                                                                                  \n",
            " decoder_stage0a_bn (BatchNorma  (None, None, None,   1024       ['decoder_stage0a_conv[0][0]']   \n",
            " lization)                      256)                                                              \n",
            "                                                                                                  \n",
            " decoder_stage0a_relu (Activati  (None, None, None,   0          ['decoder_stage0a_bn[0][0]']     \n",
            " on)                            256)                                                              \n",
            "                                                                                                  \n",
            " decoder_stage0b_conv (Conv2D)  (None, None, None,   589824      ['decoder_stage0a_relu[0][0]']   \n",
            "                                256)                                                              \n",
            "                                                                                                  \n",
            " decoder_stage0b_bn (BatchNorma  (None, None, None,   1024       ['decoder_stage0b_conv[0][0]']   \n",
            " lization)                      256)                                                              \n",
            "                                                                                                  \n",
            " decoder_stage0b_relu (Activati  (None, None, None,   0          ['decoder_stage0b_bn[0][0]']     \n",
            " on)                            256)                                                              \n",
            "                                                                                                  \n",
            " decoder_stage1_upsampling (UpS  (None, None, None,   0          ['decoder_stage0b_relu[0][0]']   \n",
            " ampling2D)                     256)                                                              \n",
            "                                                                                                  \n",
            " decoder_stage1_concat (Concate  (None, None, None,   0          ['decoder_stage1_upsampling[0][0]\n",
            " nate)                          384)                             ',                               \n",
            "                                                                  'stage3_unit1_relu1[0][0]']     \n",
            "                                                                                                  \n",
            " decoder_stage1a_conv (Conv2D)  (None, None, None,   442368      ['decoder_stage1_concat[0][0]']  \n",
            "                                128)                                                              \n",
            "                                                                                                  \n",
            " decoder_stage1a_bn (BatchNorma  (None, None, None,   512        ['decoder_stage1a_conv[0][0]']   \n",
            " lization)                      128)                                                              \n",
            "                                                                                                  \n",
            " decoder_stage1a_relu (Activati  (None, None, None,   0          ['decoder_stage1a_bn[0][0]']     \n",
            " on)                            128)                                                              \n",
            "                                                                                                  \n",
            " decoder_stage1b_conv (Conv2D)  (None, None, None,   147456      ['decoder_stage1a_relu[0][0]']   \n",
            "                                128)                                                              \n",
            "                                                                                                  \n",
            " decoder_stage1b_bn (BatchNorma  (None, None, None,   512        ['decoder_stage1b_conv[0][0]']   \n",
            " lization)                      128)                                                              \n",
            "                                                                                                  \n",
            " decoder_stage1b_relu (Activati  (None, None, None,   0          ['decoder_stage1b_bn[0][0]']     \n",
            " on)                            128)                                                              \n",
            "                                                                                                  \n",
            " decoder_stage2_upsampling (UpS  (None, None, None,   0          ['decoder_stage1b_relu[0][0]']   \n",
            " ampling2D)                     128)                                                              \n",
            "                                                                                                  \n",
            " decoder_stage2_concat (Concate  (None, None, None,   0          ['decoder_stage2_upsampling[0][0]\n",
            " nate)                          192)                             ',                               \n",
            "                                                                  'stage2_unit1_relu1[0][0]']     \n",
            "                                                                                                  \n",
            " decoder_stage2a_conv (Conv2D)  (None, None, None,   110592      ['decoder_stage2_concat[0][0]']  \n",
            "                                64)                                                               \n",
            "                                                                                                  \n",
            " decoder_stage2a_bn (BatchNorma  (None, None, None,   256        ['decoder_stage2a_conv[0][0]']   \n",
            " lization)                      64)                                                               \n",
            "                                                                                                  \n",
            " decoder_stage2a_relu (Activati  (None, None, None,   0          ['decoder_stage2a_bn[0][0]']     \n",
            " on)                            64)                                                               \n",
            "                                                                                                  \n",
            " decoder_stage2b_conv (Conv2D)  (None, None, None,   36864       ['decoder_stage2a_relu[0][0]']   \n",
            "                                64)                                                               \n",
            "                                                                                                  \n",
            " decoder_stage2b_bn (BatchNorma  (None, None, None,   256        ['decoder_stage2b_conv[0][0]']   \n",
            " lization)                      64)                                                               \n",
            "                                                                                                  \n",
            " decoder_stage2b_relu (Activati  (None, None, None,   0          ['decoder_stage2b_bn[0][0]']     \n",
            " on)                            64)                                                               \n",
            "                                                                                                  \n",
            " decoder_stage3_upsampling (UpS  (None, None, None,   0          ['decoder_stage2b_relu[0][0]']   \n",
            " ampling2D)                     64)                                                               \n",
            "                                                                                                  \n",
            " decoder_stage3_concat (Concate  (None, None, None,   0          ['decoder_stage3_upsampling[0][0]\n",
            " nate)                          128)                             ',                               \n",
            "                                                                  'relu0[0][0]']                  \n",
            "                                                                                                  \n",
            " decoder_stage3a_conv (Conv2D)  (None, None, None,   36864       ['decoder_stage3_concat[0][0]']  \n",
            "                                32)                                                               \n",
            "                                                                                                  \n",
            " decoder_stage3a_bn (BatchNorma  (None, None, None,   128        ['decoder_stage3a_conv[0][0]']   \n",
            " lization)                      32)                                                               \n",
            "                                                                                                  \n",
            " decoder_stage3a_relu (Activati  (None, None, None,   0          ['decoder_stage3a_bn[0][0]']     \n",
            " on)                            32)                                                               \n",
            "                                                                                                  \n",
            " decoder_stage3b_conv (Conv2D)  (None, None, None,   9216        ['decoder_stage3a_relu[0][0]']   \n",
            "                                32)                                                               \n",
            "                                                                                                  \n",
            " decoder_stage3b_bn (BatchNorma  (None, None, None,   128        ['decoder_stage3b_conv[0][0]']   \n",
            " lization)                      32)                                                               \n",
            "                                                                                                  \n",
            " decoder_stage3b_relu (Activati  (None, None, None,   0          ['decoder_stage3b_bn[0][0]']     \n",
            " on)                            32)                                                               \n",
            "                                                                                                  \n",
            " decoder_stage4_upsampling (UpS  (None, None, None,   0          ['decoder_stage3b_relu[0][0]']   \n",
            " ampling2D)                     32)                                                               \n",
            "                                                                                                  \n",
            " decoder_stage4a_conv (Conv2D)  (None, None, None,   4608        ['decoder_stage4_upsampling[0][0]\n",
            "                                16)                              ']                               \n",
            "                                                                                                  \n",
            " decoder_stage4a_bn (BatchNorma  (None, None, None,   64         ['decoder_stage4a_conv[0][0]']   \n",
            " lization)                      16)                                                               \n",
            "                                                                                                  \n",
            " decoder_stage4a_relu (Activati  (None, None, None,   0          ['decoder_stage4a_bn[0][0]']     \n",
            " on)                            16)                                                               \n",
            "                                                                                                  \n",
            " decoder_stage4b_conv (Conv2D)  (None, None, None,   2304        ['decoder_stage4a_relu[0][0]']   \n",
            "                                16)                                                               \n",
            "                                                                                                  \n",
            " decoder_stage4b_bn (BatchNorma  (None, None, None,   64         ['decoder_stage4b_conv[0][0]']   \n",
            " lization)                      16)                                                               \n",
            "                                                                                                  \n",
            " decoder_stage4b_relu (Activati  (None, None, None,   0          ['decoder_stage4b_bn[0][0]']     \n",
            " on)                            16)                                                               \n",
            "                                                                                                  \n",
            " final_conv (Conv2D)            (None, None, None,   1740        ['decoder_stage4b_relu[0][0]']   \n",
            "                                12)                                                               \n",
            "                                                                                                  \n",
            " softmax (Activation)           (None, None, None,   0           ['final_conv[0][0]']             \n",
            "                                12)                                                               \n",
            "                                                                                                  \n",
            "==================================================================================================\n",
            "Total params: 24,457,749\n",
            "Trainable params: 24,440,399\n",
            "Non-trainable params: 17,350\n",
            "__________________________________________________________________________________________________\n",
            "None\n"
          ]
        }
      ],
      "source": [
        "###Model 2\n",
        "BACKBONE2 = 'resnet34'\n",
        "preprocess_input2 = sm.get_preprocessing(BACKBONE2)\n",
        "\n",
        "# preprocess input\n",
        "X_train2 = preprocess_input2(X_train)\n",
        "X_test2 = preprocess_input2(X_test)\n",
        "\n",
        "# define model\n",
        "model2 = sm.Unet(BACKBONE2, encoder_weights='imagenet', classes=n_classes, activation=activation)\n",
        "\n",
        "# compile keras model with defined optimozer, loss and metrics\n",
        "model2.compile(optim, total_loss, metrics=metrics)\n",
        "\n",
        "#model1.compile(optimizer='adam', loss='categorical_crossentropy', metrics=metrics)\n",
        "\n",
        "print(model2.summary())"
      ]
    },
    {
      "cell_type": "code",
      "execution_count": null,
      "id": "d17c0118",
      "metadata": {
        "id": "d17c0118",
        "outputId": "4906e7fa-0ce7-46a4-f3b1-08279d90f266"
      },
      "outputs": [
        {
          "name": "stdout",
          "output_type": "stream",
          "text": [
            "Epoch 1/30\n",
            "37/37 [==============================] - 93s 2s/step - loss: 0.9768 - iou_score: 0.1353 - f1-score: 0.1716 - val_loss: 1.0116 - val_iou_score: 0.1652 - val_f1-score: 0.2142\n",
            "Epoch 2/30\n",
            "37/37 [==============================] - 87s 2s/step - loss: 0.9392 - iou_score: 0.2524 - f1-score: 0.2955 - val_loss: 0.9704 - val_iou_score: 0.1610 - val_f1-score: 0.2051\n",
            "Epoch 3/30\n",
            "37/37 [==============================] - 87s 2s/step - loss: 0.9177 - iou_score: 0.3389 - f1-score: 0.3993 - val_loss: 0.9436 - val_iou_score: 0.2844 - val_f1-score: 0.3470\n",
            "Epoch 4/30\n",
            "37/37 [==============================] - 87s 2s/step - loss: 0.9040 - iou_score: 0.3867 - f1-score: 0.4560 - val_loss: 0.9328 - val_iou_score: 0.3130 - val_f1-score: 0.3810\n",
            "Epoch 5/30\n",
            "37/37 [==============================] - 87s 2s/step - loss: 0.8951 - iou_score: 0.4165 - f1-score: 0.4915 - val_loss: 0.9213 - val_iou_score: 0.3530 - val_f1-score: 0.4308\n",
            "Epoch 6/30\n",
            "37/37 [==============================] - 87s 2s/step - loss: 0.8892 - iou_score: 0.4307 - f1-score: 0.5036 - val_loss: 0.9031 - val_iou_score: 0.4106 - val_f1-score: 0.4830\n",
            "Epoch 7/30\n",
            "37/37 [==============================] - 87s 2s/step - loss: 0.8817 - iou_score: 0.4531 - f1-score: 0.5246 - val_loss: 0.8967 - val_iou_score: 0.4269 - val_f1-score: 0.4962\n",
            "Epoch 8/30\n",
            "37/37 [==============================] - 87s 2s/step - loss: 0.8780 - iou_score: 0.4638 - f1-score: 0.5399 - val_loss: 0.8924 - val_iou_score: 0.4343 - val_f1-score: 0.5113\n",
            "Epoch 9/30\n",
            "37/37 [==============================] - 88s 2s/step - loss: 0.8731 - iou_score: 0.4854 - f1-score: 0.5698 - val_loss: 0.8846 - val_iou_score: 0.4566 - val_f1-score: 0.5370\n",
            "Epoch 10/30\n",
            "37/37 [==============================] - 87s 2s/step - loss: 0.8691 - iou_score: 0.5027 - f1-score: 0.5930 - val_loss: 0.8778 - val_iou_score: 0.4810 - val_f1-score: 0.5669\n",
            "Epoch 11/30\n",
            "37/37 [==============================] - 87s 2s/step - loss: 0.8620 - iou_score: 0.5252 - f1-score: 0.6161 - val_loss: 0.8748 - val_iou_score: 0.4864 - val_f1-score: 0.5701\n",
            "Epoch 12/30\n",
            "37/37 [==============================] - 87s 2s/step - loss: 0.8580 - iou_score: 0.5374 - f1-score: 0.6274 - val_loss: 0.8726 - val_iou_score: 0.4924 - val_f1-score: 0.5790\n",
            "Epoch 13/30\n",
            "37/37 [==============================] - 87s 2s/step - loss: 0.8554 - iou_score: 0.5443 - f1-score: 0.6347 - val_loss: 0.8704 - val_iou_score: 0.4998 - val_f1-score: 0.5872\n",
            "Epoch 14/30\n",
            "37/37 [==============================] - 87s 2s/step - loss: 0.8535 - iou_score: 0.5491 - f1-score: 0.6385 - val_loss: 0.8708 - val_iou_score: 0.4949 - val_f1-score: 0.5789\n",
            "Epoch 15/30\n",
            "37/37 [==============================] - 87s 2s/step - loss: 0.8499 - iou_score: 0.5617 - f1-score: 0.6504 - val_loss: 0.8709 - val_iou_score: 0.4955 - val_f1-score: 0.5828\n",
            "Epoch 16/30\n",
            "37/37 [==============================] - 87s 2s/step - loss: 0.8487 - iou_score: 0.5638 - f1-score: 0.6527 - val_loss: 0.8669 - val_iou_score: 0.5055 - val_f1-score: 0.5893\n",
            "Epoch 17/30\n",
            "37/37 [==============================] - 87s 2s/step - loss: 0.8448 - iou_score: 0.5763 - f1-score: 0.6657 - val_loss: 0.8655 - val_iou_score: 0.5098 - val_f1-score: 0.5987\n",
            "Epoch 18/30\n",
            "37/37 [==============================] - 87s 2s/step - loss: 0.8420 - iou_score: 0.5936 - f1-score: 0.6894 - val_loss: 0.8649 - val_iou_score: 0.5066 - val_f1-score: 0.5970\n",
            "Epoch 19/30\n",
            "37/37 [==============================] - 87s 2s/step - loss: 0.8398 - iou_score: 0.6004 - f1-score: 0.6981 - val_loss: 0.8623 - val_iou_score: 0.5232 - val_f1-score: 0.6154\n",
            "Epoch 20/30\n",
            "37/37 [==============================] - 87s 2s/step - loss: 0.8373 - iou_score: 0.6069 - f1-score: 0.7041 - val_loss: 0.8637 - val_iou_score: 0.5144 - val_f1-score: 0.6067\n",
            "Epoch 21/30\n",
            "37/37 [==============================] - 87s 2s/step - loss: 0.8353 - iou_score: 0.6118 - f1-score: 0.7089 - val_loss: 0.8597 - val_iou_score: 0.5298 - val_f1-score: 0.6194\n",
            "Epoch 22/30\n",
            "37/37 [==============================] - 88s 2s/step - loss: 0.8320 - iou_score: 0.6239 - f1-score: 0.7228 - val_loss: 0.8626 - val_iou_score: 0.5183 - val_f1-score: 0.6094\n",
            "Epoch 23/30\n",
            "37/37 [==============================] - 87s 2s/step - loss: 0.8299 - iou_score: 0.6303 - f1-score: 0.7284 - val_loss: 0.8623 - val_iou_score: 0.5191 - val_f1-score: 0.6102\n",
            "Epoch 24/30\n",
            "37/37 [==============================] - 87s 2s/step - loss: 0.8279 - iou_score: 0.6376 - f1-score: 0.7322 - val_loss: 0.8599 - val_iou_score: 0.5251 - val_f1-score: 0.6185\n",
            "Epoch 25/30\n",
            "37/37 [==============================] - 87s 2s/step - loss: 0.8259 - iou_score: 0.6460 - f1-score: 0.7412 - val_loss: 0.8590 - val_iou_score: 0.5319 - val_f1-score: 0.6202\n",
            "Epoch 26/30\n",
            "37/37 [==============================] - 87s 2s/step - loss: 0.8241 - iou_score: 0.6528 - f1-score: 0.7476 - val_loss: 0.8573 - val_iou_score: 0.5345 - val_f1-score: 0.6266\n",
            "Epoch 27/30\n",
            "37/37 [==============================] - 87s 2s/step - loss: 0.8241 - iou_score: 0.6524 - f1-score: 0.7461 - val_loss: 0.8568 - val_iou_score: 0.5367 - val_f1-score: 0.6286\n",
            "Epoch 28/30\n",
            "37/37 [==============================] - 87s 2s/step - loss: 0.8216 - iou_score: 0.6623 - f1-score: 0.7547 - val_loss: 0.8564 - val_iou_score: 0.5373 - val_f1-score: 0.6293\n",
            "Epoch 29/30\n",
            "37/37 [==============================] - 87s 2s/step - loss: 0.8217 - iou_score: 0.6622 - f1-score: 0.7533 - val_loss: 0.8562 - val_iou_score: 0.5378 - val_f1-score: 0.6324\n",
            "Epoch 30/30\n",
            "37/37 [==============================] - 87s 2s/step - loss: 0.8193 - iou_score: 0.6705 - f1-score: 0.7618 - val_loss: 0.8570 - val_iou_score: 0.5355 - val_f1-score: 0.6314\n"
          ]
        }
      ],
      "source": [
        "history2=model2.fit(X_train2, \n",
        "          y_train_cat,\n",
        "          batch_size=8, \n",
        "          epochs=30,\n",
        "          verbose=1,\n",
        "          validation_data=(X_val, y_val_cat))"
      ]
    },
    {
      "cell_type": "markdown",
      "id": "6a79e102",
      "metadata": {
        "id": "6a79e102"
      },
      "source": [
        "**Plot the training and validation accuracy and loss at each epoch**"
      ]
    },
    {
      "cell_type": "code",
      "execution_count": null,
      "id": "48915baa",
      "metadata": {
        "id": "48915baa",
        "outputId": "03455889-5c2f-4f0b-9017-6a5323c2bcbe"
      },
      "outputs": [
        {
          "data": {
            "image/png": "[encoded data removed]",
            "text/plain": [
              "<Figure size 432x288 with 1 Axes>"
            ]
          },
          "metadata": {
            "needs_background": "light"
          },
          "output_type": "display_data"
        },
        {
          "data": {
            "image/png": "[encoded data removed]",
            "text/plain": [
              "<Figure size 432x288 with 1 Axes>"
            ]
          },
          "metadata": {
            "needs_background": "light"
          },
          "output_type": "display_data"
        }
      ],
      "source": [
        "loss = history2.history['loss']\n",
        "val_loss = history2.history['val_loss']\n",
        "epochs = range(1, len(loss) + 1)\n",
        "plt.plot(epochs, loss, 'y', label='Training loss')\n",
        "plt.plot(epochs, val_loss, 'r', label='Validation loss')\n",
        "plt.title('Training and validation loss')\n",
        "plt.xlabel('Epochs')\n",
        "plt.ylabel('Loss')\n",
        "plt.legend()\n",
        "plt.show()\n",
        "\n",
        "acc = history2.history['iou_score']\n",
        "val_acc = history2.history['val_iou_score']\n",
        "\n",
        "plt.plot(epochs, acc, 'y', label='Training IOU')\n",
        "plt.plot(epochs, val_acc, 'r', label='Validation IOU')\n",
        "plt.title('Training and validation IOU')\n",
        "plt.xlabel('Epochs')\n",
        "plt.ylabel('IOU')\n",
        "plt.legend()\n",
        "plt.show()"
      ]
    },
    {
      "cell_type": "markdown",
      "id": "527ec7c2",
      "metadata": {
        "id": "527ec7c2"
      },
      "source": [
        "**MODEL EVALUTION**"
      ]
    },
    {
      "cell_type": "code",
      "execution_count": null,
      "id": "363abc14",
      "metadata": {
        "id": "363abc14",
        "outputId": "e74a553b-3166-4222-a27b-c47229f9a1bc"
      },
      "outputs": [
        {
          "name": "stdout",
          "output_type": "stream",
          "text": [
            "Mean IoU = 0.51452726\n",
            "IoU for class1 is:  0.95608866\n",
            "IoU for class2 is:  0.96850526\n",
            "IoU for class3 is:  0.0076689334\n",
            "IoU for class4 is:  0.99222434\n",
            "IoU for class5 is:  0.8849713\n",
            "IoU for class6 is:  0.95518625\n",
            "IoU for class7 is:  0.11385816\n",
            "IoU for class8 is:  0.83627754\n",
            "IoU for class9 is:  0.8042765\n",
            "IoU for class10 is:  0.31699276\n",
            "IoU for class11 is:  0.5036611\n",
            "IoU for class12 is:  0.5076716\n"
          ]
        },
        {
          "data": {
            "text/plain": [
              "<matplotlib.image.AxesImage at 0x11b06c33d30>"
            ]
          },
          "execution_count": 78,
          "metadata": {},
          "output_type": "execute_result"
        },
        {
          "data": {
            "image/png": "[encoded data removed]",
            "text/plain": [
              "<Figure size 432x288 with 1 Axes>"
            ]
          },
          "metadata": {
            "needs_background": "light"
          },
          "output_type": "display_data"
        }
      ],
      "source": [
        "#IOU\n",
        "y_pred2=model2.predict(X_test2)\n",
        "y_pred2_argmax=np.argmax(y_pred2, axis=3)\n",
        "\n",
        "\n",
        "#Using built in keras function\n",
        "#from keras.metrics import MeanIoU\n",
        "n_classes = 12\n",
        "IOU_keras = MeanIoU(num_classes=n_classes)  \n",
        "IOU_keras.update_state(y_test[:,:,:,0], y_pred2_argmax)\n",
        "print(\"Mean IoU =\", IOU_keras.result().numpy())\n",
        "#To calculate I0U for each class...\n",
        "values = np.array(IOU_keras.get_weights()).reshape(n_classes, n_classes)\n",
        "#print(values)\n",
        "class1_IoU = values[0,0]/(values[0,0] + values[0,1] + values[0,2] + values[0,3] + values[1,0]+ values[2,0]+ values[3,0])\n",
        "class2_IoU = values[1,1]/(values[1,1] + values[1,0] + values[1,2] + values[1,3] + values[0,1]+ values[2,1]+ values[3,1])\n",
        "class3_IoU = values[2,2]/(values[2,2] + values[2,0] + values[2,1] + values[2,3] + values[0,2]+ values[1,2]+ values[3,2])\n",
        "class4_IoU = values[3,3]/(values[3,3] + values[3,0] + values[3,1] + values[3,2] + values[0,3]+ values[1,3]+ values[2,3])\n",
        "class5_IoU = values[4,4]/(values[4,4] + values[4,0] + values[4,1] + values[4,2] + values[4,3]+ values[4,3]+ values[4,3])\n",
        "class6_IoU = values[5,5]/(values[5,5] + values[5,0] + values[5,1] + values[5,2] + values[5,3]+ values[5,3]+ values[5,3])\n",
        "class7_IoU = values[6,6]/(values[6,6] + values[6,0] + values[6,1] + values[6,2] + values[6,3]+ values[6,3]+ values[6,3])\n",
        "class8_IoU = values[7,7]/(values[7,7] + values[7,0] + values[7,1] + values[7,2] + values[7,3]+ values[7,3]+ values[7,3])\n",
        "class9_IoU = values[8,8]/(values[8,8] + values[8,0] + values[8,1] + values[8,2] + values[8,3]+ values[8,3]+ values[8,3])\n",
        "class10_IoU = values[9,9]/(values[9,9] + values[9,0] + values[9,1] + values[9,2] + values[9,3]+ values[9,3]+ values[9,3])\n",
        "class11_IoU = values[10,10]/(values[10,10] + values[10,0] + values[10,1] + values[10,2] + values[10,3]+ values[10,3]+ values[10,3])\n",
        "class12_IoU = values[11,11]/(values[11,11] + values[11,0] + values[11,1] + values[11,2] + values[11,3]+ values[11,3]+ values[11,3])\n",
        "\n",
        "print(\"IoU for class1 is: \", class1_IoU)\n",
        "print(\"IoU for class2 is: \", class2_IoU)\n",
        "print(\"IoU for class3 is: \", class3_IoU)\n",
        "print(\"IoU for class4 is: \", class4_IoU)\n",
        "print(\"IoU for class5 is: \", class5_IoU)\n",
        "print(\"IoU for class6 is: \", class6_IoU)\n",
        "print(\"IoU for class7 is: \", class7_IoU)\n",
        "print(\"IoU for class8 is: \", class8_IoU)\n",
        "print(\"IoU for class9 is: \", class9_IoU)\n",
        "print(\"IoU for class10 is: \", class10_IoU)\n",
        "print(\"IoU for class11 is: \", class11_IoU)\n",
        "print(\"IoU for class12 is: \", class12_IoU)\n",
        "\n",
        "#Vaerify the prediction on first image\n",
        "plt.imshow(train_images[3, :,:,0], cmap='jet')\n",
        "plt.imshow(train_masks[3], cmap='jet')"
      ]
    },
    {
      "cell_type": "markdown",
      "id": "5b90b43a",
      "metadata": {
        "id": "5b90b43a"
      },
      "source": [
        "**TEST Model on some random images** "
      ]
    },
    {
      "cell_type": "code",
      "execution_count": null,
      "id": "9bbe2933",
      "metadata": {
        "id": "9bbe2933",
        "outputId": "5bd58f25-1a42-4a6b-bd23-e544127d2a17"
      },
      "outputs": [
        {
          "data": {
            "image/png": "[encoded data removed]",
            "text/plain": [
              "<Figure size 864x576 with 3 Axes>"
            ]
          },
          "metadata": {
            "needs_background": "light"
          },
          "output_type": "display_data"
        }
      ],
      "source": [
        "import random\n",
        "test_img_number = random.randint(0, len(X_test2))\n",
        "test_img = X_test2[test_img_number]\n",
        "ground_truth=y_test[test_img_number]\n",
        "test_img_input=np.expand_dims(test_img, 0)\n",
        "\n",
        "test_img_input2 = preprocess_input2(test_img_input)\n",
        "\n",
        "test_pred2 = model2.predict(test_img_input2)\n",
        "test_prediction2 = np.argmax(test_pred2, axis=3)[0,:,:]\n",
        "\n",
        "\n",
        "plt.figure(figsize=(12, 8))\n",
        "plt.subplot(231)\n",
        "plt.title('Testing Image')\n",
        "plt.imshow(test_img[:,:,0], cmap='jet')\n",
        "plt.subplot(232)\n",
        "plt.title('Testing Label')\n",
        "plt.imshow(ground_truth[:,:,0], cmap='jet')\n",
        "plt.subplot(233)\n",
        "plt.title('Prediction on test image')\n",
        "plt.imshow(test_prediction2, cmap='jet')\n",
        "plt.show()"
      ]
    }
  ],
  "metadata": {
    "kernelspec": {
      "display_name": "Python 3",
      "language": "python",
      "name": "python3"
    },
    "language_info": {
      "codemirror_mode": {
        "name": "ipython",
        "version": 3
      },
      "file_extension": ".py",
      "mimetype": "text/x-python",
      "name": "python",
      "nbconvert_exporter": "python",
      "pygments_lexer": "ipython3",
      "version": "3.8.8"
    },
    "colab": {
      "name": "Assignmnet3_CV.ipynb",
      "provenance": []
    }
  },
  "nbformat": 4,
  "nbformat_minor": 5
}